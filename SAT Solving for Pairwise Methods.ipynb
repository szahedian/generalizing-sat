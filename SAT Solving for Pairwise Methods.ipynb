{
 "cells": [
  {
   "cell_type": "markdown",
   "metadata": {},
   "source": [
    "# SAT Solving for Pairwise Methods\n",
    "\n",
    "\n",
    "This is a notebook for Appendix B of the paper \"An approach to generalizing some impossibility theorems in social choice\" by Wesley H. Holliday, Eric Pacuit, and Saam Zahedian.  \n",
    "\n",
    "\n",
    "We use a SAT solver to prove that anonymity, neutrality, quasi-resoluteness, and binary $\\gamma$ are inconsistent."
   ]
  },
  {
   "cell_type": "markdown",
   "metadata": {},
   "source": [
    "## Notebook Overview\n",
    "1. **Canonical weighted tournament solutions** \n",
    "    1. Canonical weighted tournaments\n",
    "    2. Orbit condition\n",
    "2. **SAT setup**\n",
    "    1. Winning set dictionary\n",
    "    2. Functionality\n",
    "3. **Quasi-resoluteness**\n",
    "4. **Binary $\\gamma$**\n",
    "    1. Weighted tournament embeddings\n",
    "    2. Weighted tournament embedding example\n",
    "    3. Generate weighted tournament embeddings\n",
    "    4. Form clauses\n",
    "4. **Demonstration of Theorem B.3**"
   ]
  },
  {
   "cell_type": "code",
   "execution_count": 1,
   "metadata": {},
   "outputs": [],
   "source": [
    "from itertools import product, combinations, permutations\n",
    "import pickle\n",
    "import networkx as nx # for graphs\n",
    "import matplotlib.pyplot as plt\n",
    "from pysat.solvers import Glucose3 # SAT solver\n",
    "from copy import deepcopy\n",
    "from scipy.special import comb"
   ]
  },
  {
   "cell_type": "code",
   "execution_count": 2,
   "metadata": {},
   "outputs": [],
   "source": [
    "# helper functions\n",
    "\n",
    "def display_wwt(wwt, edge_attr):\n",
    "    \"\"\"Display a weighted (weak) tournament with edge weights\"\"\"\n",
    "    pos = nx.circular_layout(wwt)\n",
    "    nx.draw(wwt, pos, font_size=20, node_color='blue', font_color='white',\n",
    "            node_size=700, width=1, with_labels=True)\n",
    "    \n",
    "    edge_labels = nx.get_edge_attributes(wwt, edge_attr)\n",
    "    nx.draw_networkx_edge_labels(wwt, pos, edge_labels=edge_labels, label_pos=0.3)\n",
    "    plt.show()\n",
    "\n",
    "def is_maj_preferred(wt, c1, c2): \n",
    "    \"\"\"True if c1 is majority preferred to c2\"\"\"\n",
    "    return wt.has_edge(c1, c2)\n",
    "\n",
    "def is_tournament(wt):\n",
    "    \"\"\"test if a weak tournament is a tournament\"\"\"\n",
    "    candidates = wt.nodes\n",
    "    is_t = True\n",
    "    for c1 in candidates: \n",
    "        for c2 in candidates: \n",
    "            if c1 != c2 and not is_maj_preferred(wt,c1,c2) and not is_maj_preferred(wt,c2,c1):\n",
    "                is_t = False\n",
    "    return is_t\n",
    "\n",
    "def findsubsets(s, n):\n",
    "    \"\"\"all subsets of the list s of size n\"\"\" \n",
    "    return [set(i) for i in combinations(s, n)] \n",
    "\n",
    "def powerset_ne(fullset):\n",
    "    \"\"\"return all non-empty subsets of fullset\"\"\"\n",
    "    listrep = list(fullset)\n",
    "    n = len(listrep)\n",
    "    all_subsets = [[listrep[k] for k in range(n) if i&1<<k ] for i in range(2**n)]\n",
    "    return [s for s in all_subsets if len(s) > 0]\n",
    "\n",
    "def all_included(listlike, items):\n",
    "    \"\"\"\n",
    "    helper for powerset_ne_plus\n",
    "    returns true if all members of items are in listlike\n",
    "    \"\"\"\n",
    "    for item in items:\n",
    "        if item not in listlike:\n",
    "            return False\n",
    "    return True\n",
    "\n",
    "def powerset_ne_plus(listlike, items):\n",
    "    \"\"\"returns all non-empty subsets of setlike which include elements of items\"\"\"\n",
    "    return [pset for pset in powerset_ne(listlike) if all_included(pset, items)]\n",
    "\n",
    "def ways(weight_domain, num):\n",
    "    return [x for x in combinations(weight_domain, int(num))]"
   ]
  },
  {
   "cell_type": "markdown",
   "metadata": {},
   "source": [
    "## 1. Canonical weighted tournament solutions"
   ]
  },
  {
   "cell_type": "markdown",
   "metadata": {},
   "source": [
    "### A. Canonical weighted tournaments\n",
    "\n",
    "To see how the canonical weighted tournaments are generated, see the notebook Canonical_Tournaments.ipynb."
   ]
  },
  {
   "cell_type": "code",
   "execution_count": 3,
   "metadata": {},
   "outputs": [
    {
     "name": "stdout",
     "output_type": "stream",
     "text": [
      "Done loading canonical weighted tournaments.\n",
      "\n",
      "There are 6 canonical weighted tournaments for 2 candidates\n",
      "There are 160 canonical weighted tournaments for 3 candidates\n",
      "There are 1920 canonical weighted tournaments for 4 candidates\n"
     ]
    }
   ],
   "source": [
    "# Only consider tournaments for up to 4 candidates\n",
    "numbers_of_candidates = [2, 3, 4]\n",
    "\n",
    "# name of networkx edge attribute storing each edge's weight\n",
    "edge_attr = 'weight'\n",
    "\n",
    "# possible weights on edges\n",
    "weight_domain = [2, 4, 6, 8, 10, 12]\n",
    "\n",
    "def edge_compare_helper(dict1, dict2, edge_attr):\n",
    "    return dict1[edge_attr] == dict2[edge_attr]\n",
    "\n",
    "edge_compare = (lambda edge_attr: lambda dict1, dict2: edge_compare_helper(dict1, dict2, edge_attr))(edge_attr)\n",
    "\n",
    "# Paths to pickled weak tournaments\n",
    "canonical_weighted_tournament_paths = {\n",
    "    2: 'weighted_tourns/weighted_tourns_2.pkl',\n",
    "    3: 'weighted_tourns/weighted_tourns_3.pkl',\n",
    "    4: 'weighted_tourns/weighted_tourns_4.pkl',\n",
    "}\n",
    "\n",
    "# Load all the canonical weak tournaments\n",
    "canonical_weighted_tournaments = {nc: pickle.load(open(canonical_weighted_tournament_paths[nc], 'rb')) \\\n",
    "                                  for nc in numbers_of_candidates}\n",
    "\n",
    "print(\"Done loading canonical weighted tournaments.\\n\")\n",
    "\n",
    "for nc in numbers_of_candidates: \n",
    "    print(f\"There are {len(canonical_weighted_tournaments[nc])} canonical weighted tournaments for {nc} candidates\")\n"
   ]
  },
  {
   "cell_type": "markdown",
   "metadata": {},
   "source": [
    "### B. Orbit condition\n",
    "\n",
    "Ensuring the orbit condition is satisfied on weighted tournaments is similar to doing so for tournament solutions. The only difference is that isomorphisms and canonical representatives now involve edge weights."
   ]
  },
  {
   "cell_type": "code",
   "execution_count": 4,
   "metadata": {
    "scrolled": true
   },
   "outputs": [],
   "source": [
    "def orbit_condition(orbit, ws): \n",
    "    \"\"\"\n",
    "    orbit is a set of candidates and ws is a winning set\n",
    "    returns true if the orbit condition is satisfied\n",
    "    \"\"\"\n",
    "    return set(orbit).issubset(set(ws)) or not bool(set(orbit).intersection(set(ws)))\n",
    "\n",
    "def find_possible_winners(min_num_cands, max_num_cands, canonical_graphs): \n",
    "    \"\"\"\n",
    "    takes dictionary of canonical graphs and range of graph sizes to consider\n",
    "    for each canonical graph, creates tuples containing the graph and winning sets that meet the orbit condition\n",
    "    \"\"\"\n",
    "    possible_winners = {nc: list() for nc in range(min_num_cands, max_num_cands + 1)}\n",
    "    for nc in possible_winners.keys():\n",
    "        for g in canonical_graphs[nc]:\n",
    "            candidates = g.nodes\n",
    "\n",
    "            # all the automorophism on wt\n",
    "            automorphisms = list(nx.algorithms.isomorphism.GraphMatcher(g, g, edge_match=edge_compare).isomorphisms_iter())\n",
    "\n",
    "            # find the orbits\n",
    "            _orbits=list()\n",
    "            for c in candidates: \n",
    "                _orbit = list()\n",
    "                for aut in automorphisms: \n",
    "                    _orbit.append(aut[c])\n",
    "                _orbits.append(tuple(set(_orbit)))\n",
    "            orbits = list(set(_orbits))\n",
    "\n",
    "            # find the possible winning sets for wt\n",
    "            for ws in powerset_ne(candidates): \n",
    "                if all([orbit_condition(orbit, ws) for orbit in orbits]):\n",
    "                    possible_winners[nc].append((g, ws))\n",
    "    return possible_winners"
   ]
  },
  {
   "cell_type": "markdown",
   "metadata": {},
   "source": [
    "## 2. SAT setup\n",
    "\n",
    "We use the [PySAT](https://pysathq.github.io/) toolkit to interface with a SAT solver. Formulas in PySAT are written in conjunctive normal form. Disjunctions are written as lists of integers. A positive integer denotes a propositional variable, a negative integer its negation.\n",
    "\n",
    "For a canonical weighted tournament $T_C$ and a possible winning set $Y$, let $A_{T_C,Y}$ be a propositional variable, where\n",
    "$A_{T_C,Y}$ means that $Y$ is the winning set associated with $T_C$ and  $\\neg A_{T_C,Y}$ means that $Y$ is not the winning set associated with $T_C$."
   ]
  },
  {
   "cell_type": "markdown",
   "metadata": {},
   "source": [
    "### A.  Winning set dictionary\n",
    "\n"
   ]
  },
  {
   "cell_type": "code",
   "execution_count": 5,
   "metadata": {},
   "outputs": [],
   "source": [
    "def generate_wwt_dictionary(possible_winners):\n",
    "    \"\"\"\n",
    "    takes a dictionary of (weak) tournaments and returns a dictionary (t, ws) -> int\n",
    "    t is a tournament in 'possible_winners' and ws is a winning set on t satisfying the orbit condition\n",
    "    \"\"\"\n",
    "    wwt_dictionary = {}\n",
    "    wwt_id = 1\n",
    "    for nc in possible_winners.keys(): \n",
    "        for wwt,ws in possible_winners[nc]:\n",
    "            wwt_dictionary.update({(wwt, tuple(ws)): wwt_id})\n",
    "            wwt_id += 1\n",
    "    return wwt_dictionary"
   ]
  },
  {
   "cell_type": "markdown",
   "metadata": {},
   "source": [
    "### B. Functionality\n",
    "\n",
    "The first step is to write a list of clauses expressing functionality. The concept is that for each weighted weak tournament $T$, some possible winning set is associated with $T$, and it is not the case that two winning sets are associated with $T$.\n",
    "\n",
    "For instance, suppose that $T$ is a weighted tournament and there are three possible winning sets for $T$,  $Y_1$, $Y_2$ and $Y_3$. We add the following conjuncts to the formula: \n",
    "\n",
    "1. $A_{T,Y_1}\\vee A_{T,Y_2}\\vee A_{T,Y_3}$\n",
    "2. $\\neg A_{T,Y_1}\\vee \\neg A_{T,Y_2}$\n",
    "3. $\\neg A_{T,Y_1}\\vee \\neg A_{T,Y_3}$\n",
    "4. $\\neg A_{T,Y_2}\\vee \\neg A_{T,Y_3}$.\n",
    "\n",
    "The conjunction of these formulas says that exactly one of formulas $A_{T,Y_1}$, $A_{T, Y_2}$ or $A_{T, Y_3}$ is true: \n",
    "\n",
    "$$(A_{T,Y_1}\\vee A_{T,Y_2}\\vee A_{T,Y_3}) \\wedge (\\neg A_{T,Y_1}\\vee \\neg A_{T,Y_2})\\wedge (\\neg A_{T,Y_1}\\vee \\neg A_{T,Y_3})\\wedge (\\neg A_{T,Y_2}\\vee \\neg A_{T,Y_3}).$$\n",
    "\n",
    "Then the above formula means that exactly one of $Y_1$, $Y_2$ or $Y_3$ is the winning set associated with $T$. "
   ]
  },
  {
   "cell_type": "code",
   "execution_count": 6,
   "metadata": {
    "scrolled": true
   },
   "outputs": [],
   "source": [
    "def generate_function_formula(graphs, wwt_dictionary): \n",
    "    \"\"\"\n",
    "    takes a list of all graphs 'graphs' and a dictionary of possible winners on those graphs 'wwt_dictionary'\n",
    "    returns CNF clauses ensuring that only one winning set will be chosen per graph\n",
    "    \"\"\"\n",
    "    C_func = list()\n",
    "    for g in graphs:     \n",
    "        # get the list of all atomic formulas describing a possible winning set\n",
    "        poss_ws = [wwt_dictionary[(_g, ws)] for _g,ws in wwt_dictionary.keys() if _g == g]\n",
    "        # NOTE: we use equality rather than testing for graph isomporphism.  This makes sense since\n",
    "        # graphs is the set of the networkx objects representing the canonical tournaments and \n",
    "        # the keys of wwt_dictionary are tuples where the first components is an object from this lest. \n",
    "        C_func.append(poss_ws) # one of the possible winning sets is the winner\n",
    "        for pairs in combinations(poss_ws, 2):\n",
    "            # add a clause saying that it is not the case that two possible winning sets are associated \n",
    "            # with a weighted tournament\n",
    "            C_func.append([0 - pairs[0], 0 - pairs[1]])\n",
    "\n",
    "    return C_func"
   ]
  },
  {
   "cell_type": "code",
   "execution_count": 7,
   "metadata": {
    "scrolled": true
   },
   "outputs": [
    {
     "name": "stdout",
     "output_type": "stream",
     "text": [
      "Done finding the possible winners.\n",
      "Done creating the encoding.\n",
      "Done creating the function formula.\n",
      "\n",
      "\n",
      "Should be true expressing that there is a weighted tournament solution on the domain: True\n",
      "\n"
     ]
    }
   ],
   "source": [
    "# Sanity check: This should output True since it is always possible \n",
    "# to find some weighted tournament solution on a domain of weighted tournaments\n",
    "\n",
    "min_num_cands, max_num_cands = 3, 4\n",
    "\n",
    "canonical_graphs = canonical_weighted_tournaments\n",
    "graphs = [wwt for nc in range(min_num_cands, max_num_cands + 1)  for wwt in canonical_graphs[nc]]\n",
    "\n",
    "possible_winners = find_possible_winners(min_num_cands, max_num_cands, canonical_graphs)\n",
    "print(\"Done finding the possible winners.\")\n",
    "\n",
    "wwt_dictionary = generate_wwt_dictionary(possible_winners)\n",
    "print(\"Done creating the encoding.\")\n",
    "\n",
    "C_func = generate_function_formula(graphs, wwt_dictionary)\n",
    "print(\"Done creating the function formula.\\n\\n\")\n",
    "\n",
    "sat_solver = Glucose3()\n",
    "for cl in C_func:\n",
    "    sat_solver.add_clause(cl)\n",
    "print(f\"Should be true expressing that there is a weighted tournament solution on the domain: {sat_solver.solve()}\\n\")\n",
    "\n",
    "# uncomment to see the model (list of literals that are true)\n",
    "#print(sat_solver.get_model())"
   ]
  },
  {
   "cell_type": "markdown",
   "metadata": {},
   "source": [
    "## 3. Quasi-resoluteness\n",
    "\n",
    "The quasi-resoluteness axiom states that if a weighted tournament's weights are distinct, then that tournament has a unique winner."
   ]
  },
  {
   "cell_type": "code",
   "execution_count": 8,
   "metadata": {},
   "outputs": [],
   "source": [
    "def unique_weights(g, edge_attr):\n",
    "    \"\"\"\n",
    "    determines if a graph g has unique edge weights\n",
    "    \"\"\"\n",
    "    if len(set([g.edges[e][edge_attr] for e in g.edges])) < len(g.edges):\n",
    "        return False\n",
    "    return True\n",
    "\n",
    "def generate_qr_formula(wwt_dictionary, edge_attr):\n",
    "    C_qr = list()\n",
    "    for t, ws in wwt_dictionary.keys():\n",
    "        if unique_weights(t, edge_attr) and len(ws) > 1:\n",
    "            C_qr.append([-wwt_dictionary[(t, ws)]])\n",
    "    return C_qr"
   ]
  },
  {
   "cell_type": "markdown",
   "metadata": {},
   "source": [
    "## 4. Binary $\\gamma$\n",
    "\n",
    "### A. Weighted tournament embeddings\n",
    "\n",
    "Note that we use \"embedding\" as it is used in model theory, which is equivalent to being isomorphic to a substructure (see W. Hodges, \"Model Theory\", pp. 5-6). A canonical weighted tournament $T'$ is a substructure of the canonical weighted tournament $T$ when the set of candidates of $T'$ is a subset of the set of candidates of $T$ and for any candidates $x, y$ in $T'$, there is an edge from $x$ to $y$ in $T'$ with weight $n$ if and only if there is an edge from $x$ to $y$ with weight $n$ in $T$.\n",
    "\n",
    "[Networkx](https://networkx.org/documentation/stable/reference/algorithms/isomorphism.vf2.html#digraph-matcher) has an algorithm to find isomorphisms from *subgraphs* of $T$ to a graph $T'$.  However, what networkx means by a \"subgraph\" is not the same as a substructure.   A canonical weak tournament $T'$ is a *subgraph* of $T$ when the set of candidates of $T'$ is a subset of the set of candidates of $T$ and  for any candidates $x, y$ in $T'$, if there is an edge from $x$ to $y$ in $T'$, then there is an edge from $x$ to $y$ in $T$. \n",
    "\n",
    "A subgraph isomorphism is not sufficient for a tournament embedding. We solve that problem by running subgraph isomorphisms through the function below."
   ]
  },
  {
   "cell_type": "code",
   "execution_count": 9,
   "metadata": {},
   "outputs": [],
   "source": [
    "def is_embedding(small_g, big_g, iso):\n",
    "    \"\"\"\n",
    "    iso is an isomorphism from small_g to a subgraph of big_g,\n",
    "    but we must check whether iso is an embedding. \n",
    "    returns True if iso is an embedding of small_g into big_g. \n",
    "    \n",
    "    Returns True if for every pair of candidates c1 and c2 in small_g, \n",
    "    if there is an edge between iso[c1] and iso[c2] in big_g, then \n",
    "    there is an edge between c1 and c2 in small_g\n",
    "    \"\"\"\n",
    "    for c1, c2 in product(small_g.nodes, small_g.nodes): \n",
    "        if big_g.has_edge(iso[c1],iso[c2]) and not small_g.has_edge(c1,c2):\n",
    "            return False\n",
    "    return True    "
   ]
  },
  {
   "cell_type": "markdown",
   "metadata": {},
   "source": [
    "A verified _tournament_ embedding is not necessarily a _weighted tournament_ embedding. The function below checks whether a verified tournament embedding also preserves edge weights and is thus a weighted tournament embedding."
   ]
  },
  {
   "cell_type": "code",
   "execution_count": 10,
   "metadata": {},
   "outputs": [],
   "source": [
    "# helper function that transforms edges under an isomorphism\n",
    "edge_conv = lambda e, iso: (iso[e[0]], iso[e[1]])\n",
    "\n",
    "def preserves_weights(small_g, big_g, iso, edge_attr, verbose=False):\n",
    "    \"\"\"\n",
    "    takes weighted tournament small_g, big_g and an embedding iso from small_g to big_g\n",
    "    returns true if iso preserves weights from small_g to big_g\n",
    "    \"\"\"\n",
    "    for e in small_g.edges:\n",
    "        if small_g.edges[e][edge_attr] != big_g.edges[edge_conv(e, iso)][edge_attr]:\n",
    "            if verbose:\n",
    "                print(\"The edge {} in the small graph embeds into the edge {} in the big graph, but the weight of {} in the small graph doesn't match the weight of {} in the big graph.\".format(e, edge_conv(e, iso), e, edge_conv(e, iso)))\n",
    "            return False\n",
    "    return True"
   ]
  },
  {
   "cell_type": "markdown",
   "metadata": {},
   "source": [
    "### B. Weighted tournament embedding example\n",
    "\n",
    "Run the  following code to illustrate the definition of a weighted tournament embedding and why a tournament embeddings is not necessarily a weighted tournament embedding.  "
   ]
  },
  {
   "cell_type": "code",
   "execution_count": 11,
   "metadata": {},
   "outputs": [
    {
     "name": "stdout",
     "output_type": "stream",
     "text": [
      "T1: a canonical weighted tournament for 4 candidates: \n"
     ]
    },
    {
     "data": {
      "image/png": "[encoded data removed]",
      "text/plain": [
       "<Figure size 432x288 with 1 Axes>"
      ]
     },
     "metadata": {},
     "output_type": "display_data"
    },
    {
     "name": "stdout",
     "output_type": "stream",
     "text": [
      "T2: a canonical weighted tournament for 3 candidates: \n"
     ]
    },
    {
     "data": {
      "image/png": "[encoded data removed]",
      "text/plain": [
       "<Figure size 432x288 with 1 Axes>"
      ]
     },
     "metadata": {},
     "output_type": "display_data"
    },
    {
     "name": "stdout",
     "output_type": "stream",
     "text": [
      "All the tournament embeddings between the weighted tournament T2 with 3 candidates and subgraphs of the weighted tournament T1 with 4 candidates:\n",
      "\n",
      "e(0) = 0, e(1) = 1, e(2) = 2\n",
      "\tThis tournament embedding is also a weighted tournament embedding.\n",
      "\n",
      "\n",
      "e(0) = 0, e(1) = 1, e(2) = 3\n",
      "The edge (2, 0) in the small graph embeds into the edge (3, 0) in the big graph, but the weight of (2, 0) in the small graph doesn't match the weight of (3, 0) in the big graph.\n",
      "\tSo this tournament embedding is not a weighted tournament embedding.\n",
      "\n",
      "\n",
      "e(0) = 0, e(1) = 2, e(2) = 3\n",
      "The edge (1, 0) in the small graph embeds into the edge (2, 0) in the big graph, but the weight of (1, 0) in the small graph doesn't match the weight of (2, 0) in the big graph.\n",
      "\tSo this tournament embedding is not a weighted tournament embedding.\n",
      "\n",
      "\n",
      "e(0) = 1, e(1) = 2, e(2) = 3\n",
      "The edge (1, 0) in the small graph embeds into the edge (2, 1) in the big graph, but the weight of (1, 0) in the small graph doesn't match the weight of (2, 1) in the big graph.\n",
      "\tSo this tournament embedding is not a weighted tournament embedding.\n",
      "\n",
      "\n"
     ]
    }
   ],
   "source": [
    "T1 = canonical_weighted_tournaments[4][3]\n",
    "\n",
    "print(\"T1: a canonical weighted tournament for 4 candidates: \")\n",
    "display_wwt(T1, edge_attr)\n",
    "\n",
    "print(\"T2: a canonical weighted tournament for 3 candidates: \")\n",
    "T2 = canonical_weighted_tournaments[3][0]\n",
    "display_wwt(T2, edge_attr)\n",
    "\n",
    "print(\"All the tournament embeddings between the weighted tournament T2 with 3 candidates and subgraphs of the weighted tournament T1 with 4 candidates:\\n\")\n",
    "for iso in nx.algorithms.isomorphism.GraphMatcher(T1, T2).subgraph_isomorphisms_iter():\n",
    "    # iso is a dictionary mapping a subset of elements of the bigger graph T1 to the \n",
    "    # small graph T2, but it is easier to think about the inverse function mapping \n",
    "    # nodes in the small graph T2 into the bigger graph T1. \n",
    "    inverse_iso = {v:k for k,v in iso.items()}\n",
    "    \n",
    "    if not is_embedding(T2, T1, inverse_iso):\n",
    "        continue\n",
    "    \n",
    "    print(\", \".join([f\"e({c1}) = {c2}\" for c1, c2 in inverse_iso.items()]))\n",
    "    \n",
    "    if preserves_weights(T2, T1, inverse_iso, edge_attr, verbose=True):\n",
    "        print(\"\\tThis tournament embedding is also a weighted tournament embedding.\\n\\n\")\n",
    "    else:\n",
    "        print(\"\\tSo this tournament embedding is not a weighted tournament embedding.\\n\\n\")"
   ]
  },
  {
   "cell_type": "markdown",
   "metadata": {},
   "source": [
    "### C. Generate weighted tournament embeddings\n",
    "\n",
    "Find all weighted tournament embeddings between canonical weighted tournaments of size $n$ and canonical weighted tournaments of size $n+1$. "
   ]
  },
  {
   "cell_type": "code",
   "execution_count": 12,
   "metadata": {},
   "outputs": [],
   "source": [
    "def find_embeddings_g1_g2(g1, g2, edge_attr):\n",
    "    embeddings = list()\n",
    "    \n",
    "    seen_ranges = set()\n",
    "\n",
    "    for iso in nx.algorithms.isomorphism.GraphMatcher(g2, g1, edge_match=edge_compare).subgraph_isomorphisms_iter():\n",
    "        # for each isomporphism from g1 to a subgraph of g2\n",
    "\n",
    "        # NOTE: iso is a dictionary associating a subset of nodes from g2 to the nodes in g1\n",
    "        # It's easier to think about the isomorphism as a mapping from the smaller graph g1 \n",
    "        # into the bigger graph g2:\n",
    "        inverse_iso = {v:k for k,v in iso.items()}\n",
    "\n",
    "        rng = tuple(sorted(iso.keys())) # the range of the isomorphism (nodes in the bigger graph)\n",
    "        if not rng in seen_ranges and is_embedding(g1, g2, inverse_iso) and \\\n",
    "        preserves_weights(g1, g2, inverse_iso, edge_attr):\n",
    "            # if haven't seen the range yet, g1 is an embedding into g2, \n",
    "            # and the embedding preserves edge weights\n",
    "            seen_ranges.add(rng)\n",
    "            # record the smaller graph g1, larger graph g2 and isomorphism from g1 to g2\n",
    "            embeddings.append((g1, g2, inverse_iso))\n",
    "            \n",
    "    return embeddings"
   ]
  },
  {
   "cell_type": "code",
   "execution_count": 13,
   "metadata": {
    "scrolled": false
   },
   "outputs": [],
   "source": [
    "def find_embeddings(min_num_cands, max_num_cands, canonical_graphs, edge_attr):\n",
    "    \"\"\"\n",
    "    find embeddings of graphs in 'canonical_graphs',\n",
    "    embeddings of n-tournaments to (n+1)-tournaments, for n=min_num_cands,...,max_num_cands-1\n",
    "    \"\"\"\n",
    "    embeddings = list()\n",
    "\n",
    "    for nc in range(min_num_cands, max_num_cands): \n",
    "        # for each number of candidate between min_num_cands and max_num_cands - 1  \n",
    "\n",
    "        for g1 in canonical_graphs[nc]: \n",
    "            # for each canonical graph of size nc    \n",
    "\n",
    "            for g2 in canonical_graphs[nc+1]:\n",
    "                # for each canonical graph of size nc+1\n",
    "\n",
    "                embeddings += find_embeddings_g1_g2(g1, g2, edge_attr)\n",
    "                \n",
    "    return embeddings"
   ]
  },
  {
   "cell_type": "code",
   "execution_count": 14,
   "metadata": {},
   "outputs": [],
   "source": [
    "def find_embeddings_2(max_num_cands, canonical_graphs, edge_attr):\n",
    "    embeddings_2 = list()\n",
    "    \n",
    "    for g1 in canonical_graphs[2]:\n",
    "        for nc in range(3, max_num_cands+1):\n",
    "            for g2 in canonical_graphs[nc]:\n",
    "                embeddings_2 += find_embeddings_g1_g2(g1, g2, edge_attr)\n",
    "                \n",
    "    return embeddings_2"
   ]
  },
  {
   "cell_type": "markdown",
   "metadata": {},
   "source": [
    "### D. Form clauses"
   ]
  },
  {
   "cell_type": "code",
   "execution_count": 15,
   "metadata": {
    "scrolled": true
   },
   "outputs": [],
   "source": [
    "def generate_bg_formula(min_num_cands, \n",
    "                         max_num_cands, \n",
    "                         canonical_graphs, \n",
    "                         wt_dictionary, \n",
    "                         possible_winners, \n",
    "                         embeddings,\n",
    "                         embeddings_2): \n",
    "    \"\"\"\n",
    "    returns CNF clauses expressing binary gamma\n",
    "    \"\"\"\n",
    "\n",
    "    C_bg = list()\n",
    "\n",
    "    for nc in range(min_num_cands, max_num_cands+1):\n",
    "\n",
    "        for t in canonical_graphs[nc]:\n",
    "            # for each canonical graph on nc candidates\n",
    "            \n",
    "            E_t = [_emb for _emb in embeddings if _emb[1] == t]\n",
    "            F_t = [_emb for _emb in embeddings_2 if _emb[1] == t]\n",
    "            for emb in E_t: \n",
    "                # for each embedding into t from canonical graph emb[0]\n",
    "                \n",
    "                t_prime, _, e = emb \n",
    "                # t_prime is a canonical graph on nc-1 candidates, which t embeds into\n",
    "                \n",
    "                new_cand = list(set(t.nodes).difference(set(e.values())))[0]\n",
    "\n",
    "                #new_cand = list(set(emb[1].nodes).difference(set(emb[2].values())))[0]\n",
    "                # new_cand is the candidate in t1 not in the range of the embedding from t_prime to t\n",
    "                \n",
    "                restricted_F_t = [_emb for _emb in F_t if new_cand in set(_emb[2].values())]\n",
    "                \n",
    "                for emb_2 in restricted_F_t:\n",
    "                    # for each embedding into t from canonical 2-candidate graph emb_2[0]\n",
    "                    \n",
    "                    t_dblprime, _, f = emb_2\n",
    "                    \n",
    "                    a = list(set(e.values()).intersection(f.values()))[0]\n",
    "                    \n",
    "                    a_preimage_in_t_prime = [t_prime_cand for t_prime_cand, t_cand in e.items() \n",
    "                                             if t_cand == a][0]\n",
    "                    a_preimage_in_t_dblprime = [t_dblprime_cand for t_dblprime_cand, t_cand in f.items()\n",
    "                                             if t_cand == a][0]\n",
    "                    \n",
    "                    if (t_dblprime, tuple([a_preimage_in_t_dblprime])) in wt_dictionary:\n",
    "                        A_t_dblprime = wt_dictionary[(t_dblprime, tuple([a_preimage_in_t_dblprime]))]\n",
    "\n",
    "                        for A_t_prime in [wt_dictionary[t_prime, tuple(_ws)] \n",
    "                                          for _ws in powerset_ne_plus(t_prime.nodes, [a_preimage_in_t_prime])\n",
    "                                          if (t_prime, tuple(_ws)) in wt_dictionary]:\n",
    "                            clause = [-A_t_prime, -A_t_dblprime]\n",
    "                            clause += [wt_dictionary[t, tuple(_ws)]\n",
    "                                      for _ws in powerset_ne_plus(t.nodes, [a])\n",
    "                                      if (t, tuple(_ws)) in wt_dictionary]\n",
    "\n",
    "                            C_bg.append(clause)\n",
    "                        \n",
    "            \n",
    "    return C_bg"
   ]
  },
  {
   "cell_type": "markdown",
   "metadata": {
    "scrolled": false
   },
   "source": [
    "## 5. Demonstration of Theorem B.3"
   ]
  },
  {
   "cell_type": "code",
   "execution_count": 16,
   "metadata": {},
   "outputs": [
    {
     "name": "stdout",
     "output_type": "stream",
     "text": [
      "Done finding the possible winners.\n",
      "Done creating the encoding.\n",
      "Done creating the function formula.\n",
      "Done creating the quasi-resoluteness formula.\n",
      "Done creating the embeddings.\n",
      "Done creating the embeddings_2.\n"
     ]
    }
   ],
   "source": [
    "min_num_cands,max_num_cands = 2, 4\n",
    "\n",
    "canonical_graphs = canonical_weighted_tournaments\n",
    "graphs = [mg for nc in range(min_num_cands, max_num_cands + 1) for mg in  canonical_graphs[nc]]\n",
    "\n",
    "possible_winners = find_possible_winners(min_num_cands, max_num_cands, canonical_graphs)\n",
    "print(\"Done finding the possible winners.\")\n",
    "\n",
    "wwt_dictionary = generate_wwt_dictionary(possible_winners)\n",
    "print(\"Done creating the encoding.\")\n",
    "\n",
    "C_func = generate_function_formula(graphs, wwt_dictionary)\n",
    "print(\"Done creating the function formula.\")\n",
    "\n",
    "C_qr = generate_qr_formula(wwt_dictionary, edge_attr)\n",
    "print(\"Done creating the quasi-resoluteness formula.\")\n",
    "\n",
    "embeddings = find_embeddings(min_num_cands, max_num_cands, canonical_graphs, edge_attr)\n",
    "print(\"Done creating the embeddings.\")\n",
    "\n",
    "embeddings_2 = find_embeddings_2(max_num_cands, canonical_graphs, edge_attr)\n",
    "print(\"Done creating the embeddings_2.\")"
   ]
  },
  {
   "cell_type": "code",
   "execution_count": 17,
   "metadata": {},
   "outputs": [
    {
     "name": "stdout",
     "output_type": "stream",
     "text": [
      "Done creating the BG clauses\n"
     ]
    }
   ],
   "source": [
    "C_bg = generate_bg_formula(min_num_cands, \n",
    "                         max_num_cands, \n",
    "                         canonical_graphs, \n",
    "                         wwt_dictionary, \n",
    "                         possible_winners, \n",
    "                         embeddings,\n",
    "                         embeddings_2)\n",
    "print(\"Done creating the BG clauses\")"
   ]
  },
  {
   "cell_type": "code",
   "execution_count": 18,
   "metadata": {},
   "outputs": [
    {
     "name": "stdout",
     "output_type": "stream",
     "text": [
      "There is no canonical weighted tournament solution up to 4 candidates satisfying quasi-resoluteness and binary gamma.\n"
     ]
    }
   ],
   "source": [
    "formula =  C_func + C_qr + C_bg\n",
    "sat_solver = Glucose3()\n",
    "for cl in formula:\n",
    "    sat_solver.add_clause(cl)\n",
    "\n",
    "if sat_solver.solve(): \n",
    "    print(f\"There is a canonical weighted tournament solution up to {max_num_cands} candidates satisfying quasi-resoluteness and binary gamma.\")\n",
    "else: \n",
    "    print(f\"There is no canonical weighted tournament solution up to {max_num_cands} candidates satisfying quasi-resoluteness and binary gamma.\")\n",
    "\n",
    "# uncomment to see the modle (list of literals that are true)\n",
    "#print(sat_solver.get_model())\n",
    "vm = sat_solver.get_model()"
   ]
  }
 ],
 "metadata": {
  "kernelspec": {
   "display_name": "Python 3 (ipykernel)",
   "language": "python",
   "name": "python3"
  },
  "language_info": {
   "codemirror_mode": {
    "name": "ipython",
    "version": 3
   },
   "file_extension": ".py",
   "mimetype": "text/x-python",
   "name": "python",
   "nbconvert_exporter": "python",
   "pygments_lexer": "ipython3",
   "version": "3.9.7"
  },
  "varInspector": {
   "cols": {
    "lenName": 16,
    "lenType": 16,
    "lenVar": 40
   },
   "kernels_config": {
    "python": {
     "delete_cmd_postfix": "",
     "delete_cmd_prefix": "del ",
     "library": "var_list.py",
     "varRefreshCmd": "print(var_dic_list())"
    },
    "r": {
     "delete_cmd_postfix": ") ",
     "delete_cmd_prefix": "rm(",
     "library": "var_list.r",
     "varRefreshCmd": "cat(var_dic_list()) "
    }
   },
   "types_to_exclude": [
    "module",
    "function",
    "builtin_function_or_method",
    "instance",
    "_Feature"
   ],
   "window_display": false
  }
 },
 "nbformat": 4,
 "nbformat_minor": 4
}
