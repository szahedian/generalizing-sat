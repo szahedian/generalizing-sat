{
 "cells": [
  {
   "cell_type": "markdown",
   "id": "bb768256",
   "metadata": {},
   "source": [
    "# Canonical Weak Tournaments and Canonical Weighted Tournaments"
   ]
  },
  {
   "cell_type": "code",
   "execution_count": 23,
   "id": "c81c7b75",
   "metadata": {},
   "outputs": [],
   "source": [
    "from itertools import product, combinations, permutations\n",
    "import pickle\n",
    "import networkx as nx # for graphs\n",
    "from tqdm.notebook import tqdm\n",
    "from scipy.special import comb\n",
    "from copy import deepcopy\n"
   ]
  },
  {
   "cell_type": "code",
   "execution_count": 24,
   "id": "f3d584cd",
   "metadata": {},
   "outputs": [],
   "source": [
    "# helper functions\n",
    "\n",
    "def is_maj_preferred(wt, c1, c2): \n",
    "    \"\"\"True if c1 is majority preferred to c2\"\"\"\n",
    "    return wt.has_edge(c1, c2)\n",
    "\n",
    "def is_tournament(wt):\n",
    "    \"\"\"test if a weak tournament is a tournament\"\"\"\n",
    "    candidates = wt.nodes\n",
    "    is_t = True\n",
    "    for c1 in candidates: \n",
    "        for c2 in candidates: \n",
    "            if c1 != c2 and not is_maj_preferred(wt,c1,c2) and not is_maj_preferred(wt,c2,c1):\n",
    "                is_t = False\n",
    "    return is_t\n",
    "\n",
    "def findsubsets(s, n):\n",
    "    \"\"\"all subsets of the list s of size n\"\"\" \n",
    "    return [set(i) for i in combinations(s, n)] \n",
    "\n",
    "def ways(weight_domain, num):\n",
    "    return [x for x in combinations(weight_domain, int(num))]"
   ]
  },
  {
   "cell_type": "markdown",
   "id": "2267d201",
   "metadata": {},
   "source": [
    "# 1. Canonical weak tournaments\n",
    "\n",
    "Our first step is to create the canonical (weak) tournaments referenced in Definition A.4. We construct all the canonical (weak) tournaments of size 2, 3, 4, 5 and 6.  \n",
    "\n",
    "Tournaments are represented by [networkx Digraph](https://networkx.org/documentation/stable/tutorial.html#directed-graphs) objects.   "
   ]
  },
  {
   "cell_type": "code",
   "execution_count": 28,
   "id": "c9c1c3b4",
   "metadata": {},
   "outputs": [],
   "source": [
    "# Only consider tournaments up to six candidates\n",
    "numbers_of_candidates = [2, 3]#, 4, 5, 6]\n",
    "\n",
    "# Warning: Constructing the canonical graphs for size 6 takes a very long time!"
   ]
  },
  {
   "cell_type": "code",
   "execution_count": 32,
   "id": "f577de2b",
   "metadata": {},
   "outputs": [
    {
     "data": {
      "application/vnd.jupyter.widget-view+json": {
       "model_id": "d11415f9ad014471ae44adbde7ff1a9d",
       "version_major": 2,
       "version_minor": 0
      },
      "text/plain": [
       "HBox(children=(FloatProgress(value=0.0, max=2.0), HTML(value='')))"
      ]
     },
     "metadata": {},
     "output_type": "display_data"
    },
    {
     "data": {
      "application/vnd.jupyter.widget-view+json": {
       "model_id": "",
       "version_major": 2,
       "version_minor": 0
      },
      "text/plain": [
       "HBox(children=(FloatProgress(value=0.0, max=1.0), HTML(value='')))"
      ]
     },
     "metadata": {},
     "output_type": "display_data"
    },
    {
     "data": {
      "application/vnd.jupyter.widget-view+json": {
       "model_id": "",
       "version_major": 2,
       "version_minor": 0
      },
      "text/plain": [
       "HBox(children=(FloatProgress(value=0.0, max=1.0), HTML(value='')))"
      ]
     },
     "metadata": {},
     "output_type": "display_data"
    },
    {
     "data": {
      "application/vnd.jupyter.widget-view+json": {
       "model_id": "",
       "version_major": 2,
       "version_minor": 0
      },
      "text/plain": [
       "HBox(children=(FloatProgress(value=0.0, max=1.0), HTML(value='')))"
      ]
     },
     "metadata": {},
     "output_type": "display_data"
    },
    {
     "name": "stdout",
     "output_type": "stream",
     "text": [
      "\n"
     ]
    },
    {
     "data": {
      "application/vnd.jupyter.widget-view+json": {
       "model_id": "b229dec7bbea480eab8c689c1c28d0da",
       "version_major": 2,
       "version_minor": 0
      },
      "text/plain": [
       "HBox(children=(FloatProgress(value=0.0, max=4.0), HTML(value='')))"
      ]
     },
     "metadata": {},
     "output_type": "display_data"
    },
    {
     "data": {
      "application/vnd.jupyter.widget-view+json": {
       "model_id": "",
       "version_major": 2,
       "version_minor": 0
      },
      "text/plain": [
       "HBox(children=(FloatProgress(value=0.0, max=1.0), HTML(value='')))"
      ]
     },
     "metadata": {},
     "output_type": "display_data"
    },
    {
     "data": {
      "application/vnd.jupyter.widget-view+json": {
       "model_id": "",
       "version_major": 2,
       "version_minor": 0
      },
      "text/plain": [
       "HBox(children=(FloatProgress(value=0.0, max=1.0), HTML(value='')))"
      ]
     },
     "metadata": {},
     "output_type": "display_data"
    },
    {
     "data": {
      "application/vnd.jupyter.widget-view+json": {
       "model_id": "",
       "version_major": 2,
       "version_minor": 0
      },
      "text/plain": [
       "HBox(children=(FloatProgress(value=0.0, max=1.0), HTML(value='')))"
      ]
     },
     "metadata": {},
     "output_type": "display_data"
    },
    {
     "data": {
      "application/vnd.jupyter.widget-view+json": {
       "model_id": "",
       "version_major": 2,
       "version_minor": 0
      },
      "text/plain": [
       "HBox(children=(FloatProgress(value=0.0, max=1.0), HTML(value='')))"
      ]
     },
     "metadata": {},
     "output_type": "display_data"
    },
    {
     "data": {
      "application/vnd.jupyter.widget-view+json": {
       "model_id": "",
       "version_major": 2,
       "version_minor": 0
      },
      "text/plain": [
       "HBox(children=(FloatProgress(value=0.0, max=2.0), HTML(value='')))"
      ]
     },
     "metadata": {},
     "output_type": "display_data"
    },
    {
     "data": {
      "application/vnd.jupyter.widget-view+json": {
       "model_id": "",
       "version_major": 2,
       "version_minor": 0
      },
      "text/plain": [
       "HBox(children=(FloatProgress(value=0.0, max=1.0), HTML(value='')))"
      ]
     },
     "metadata": {},
     "output_type": "display_data"
    },
    {
     "data": {
      "application/vnd.jupyter.widget-view+json": {
       "model_id": "",
       "version_major": 2,
       "version_minor": 0
      },
      "text/plain": [
       "HBox(children=(FloatProgress(value=0.0, max=1.0), HTML(value='')))"
      ]
     },
     "metadata": {},
     "output_type": "display_data"
    },
    {
     "data": {
      "application/vnd.jupyter.widget-view+json": {
       "model_id": "",
       "version_major": 2,
       "version_minor": 0
      },
      "text/plain": [
       "HBox(children=(FloatProgress(value=0.0, max=3.0), HTML(value='')))"
      ]
     },
     "metadata": {},
     "output_type": "display_data"
    },
    {
     "data": {
      "application/vnd.jupyter.widget-view+json": {
       "model_id": "",
       "version_major": 2,
       "version_minor": 0
      },
      "text/plain": [
       "HBox(children=(FloatProgress(value=0.0, max=3.0), HTML(value='')))"
      ]
     },
     "metadata": {},
     "output_type": "display_data"
    },
    {
     "data": {
      "application/vnd.jupyter.widget-view+json": {
       "model_id": "",
       "version_major": 2,
       "version_minor": 0
      },
      "text/plain": [
       "HBox(children=(FloatProgress(value=0.0, max=1.0), HTML(value='')))"
      ]
     },
     "metadata": {},
     "output_type": "display_data"
    },
    {
     "name": "stdout",
     "output_type": "stream",
     "text": [
      "\n",
      "Done loading canonical weak tournaments.\n",
      "\n",
      "There are 2 canonical weak tournaments for 2 candidates\n",
      "There are 7 canonical weak tournaments for 3 candidates\n",
      "2\n",
      "3\n",
      "{2: [<networkx.classes.digraph.DiGraph object at 0x7ff2403df220>], 3: [<networkx.classes.digraph.DiGraph object at 0x7ff1e01d0550>, <networkx.classes.digraph.DiGraph object at 0x7ff1e01d0280>]}\n",
      "\n",
      "\n",
      "Done loading canonical tournaments.\n",
      "\n",
      "There are 1 canonical tournaments for 2 candidates\n",
      "There are 2 canonical tournaments for 3 candidates\n"
     ]
    }
   ],
   "source": [
    "\n",
    "#  nx.graph_atlas_g() is a list of all the undirected graphs with up to 7 nodes\n",
    "# See https://networkx.org/documentation/networkx-1.10/reference/generated/networkx.generators.atlas.graph_atlas_g.html\n",
    "undirected_graphs_size_2 = nx.graph_atlas_g()[2:4] # undirected graphs with 2 nodes\n",
    "undirected_graphs_size_3 = nx.graph_atlas_g()[4:8] # undirected graphs with 3 nodes\n",
    "undirected_graphs_size_4 = nx.graph_atlas_g()[8:19] # undirected graphs with 4 nodes\n",
    "undirected_graphs_size_5 = nx.graph_atlas_g()[19:53] # undirected graphs with 5 nodes\n",
    "undirected_graphs_size_6 = nx.graph_atlas_g()[53:209] # undirected graphs with 6 nodes\n",
    "\n",
    "undirected_graphs = {2: undirected_graphs_size_2,\n",
    "                     3: undirected_graphs_size_3, \n",
    "                     4: undirected_graphs_size_4,\n",
    "                     5: undirected_graphs_size_5, \n",
    "                     6: undirected_graphs_size_6}\n",
    "\n",
    "canonical_weak_tournaments = {nc: list() for nc in numbers_of_candidates}\n",
    "\n",
    "for nc in numbers_of_candidates: \n",
    "\n",
    "    for g in tqdm(undirected_graphs[nc]):\n",
    "\n",
    "        num_edges = len(g.edges)\n",
    "\n",
    "        # for n=0 to the number of edges\n",
    "        for n in range(num_edges + 1): \n",
    "\n",
    "            # find all the subsets of edges of size n\n",
    "            forward_edges = findsubsets(g.edges, n)\n",
    "\n",
    "            # for each set of edges\n",
    "            for f_edges in tqdm(forward_edges, leave=False): \n",
    "\n",
    "                # f_edges is the set of forward edges, the other edges in g point in the opposite direction\n",
    "                d_edges = list(f_edges) + [(e[1], e[0]) for e in g.edges if e not in f_edges]\n",
    "\n",
    "                # create a directed graph with the nodes from g and directed edges in d_edges\n",
    "                d_graph = nx.DiGraph()\n",
    "                d_graph.add_nodes_from(g.nodes)\n",
    "                d_graph.add_edges_from(d_edges)\n",
    "\n",
    "                # check if we have already seen a graph isomorphic to d_graph\n",
    "                if all([not nx.is_isomorphic(d_graph,_t) for _t in canonical_weak_tournaments[nc]]): \n",
    "                    canonical_weak_tournaments[nc].append(d_graph)\n",
    "        \n",
    "        # uncomment to save the graphs\n",
    "        #pickle.dump(canonical_weak_tournaments[nc], open(f\"weak_tourns_{nc}.pkl\", \"wb\"))\n",
    "\n",
    "print(\"Done loading canonical weak tournaments.\\n\")\n",
    "\n",
    "for nc in numbers_of_candidates: \n",
    "    print(f\"There are {len(canonical_weak_tournaments[nc])} canonical weak tournaments for {nc} candidates\")\n",
    "\n",
    "    \n",
    "# Set aside the tournaments\n",
    "canonical_tournaments = {n_cands: list() for n_cands in canonical_weak_tournaments.keys()}\n",
    "for n_cands in canonical_weak_tournaments.keys():\n",
    "    for t in canonical_weak_tournaments[n_cands]:\n",
    "        if is_tournament(t):\n",
    "            canonical_tournaments[n_cands].append(t)\n",
    "    # uncomment to save the graphs\n",
    "    #pickle.dump(canonical_tournaments[n_cands], open(f\"tourns_{n_cands}.pkl\", \"wb\"))\n",
    "\n",
    "print(canonical_tournaments)\n",
    "\n",
    "print(\"\\n\\nDone loading canonical tournaments.\\n\")\n",
    "\n",
    "for nc in numbers_of_candidates: \n",
    "    print(f\"There are {len(canonical_tournaments[nc])} canonical tournaments for {nc} candidates\")\n",
    "    \n",
    "    "
   ]
  },
  {
   "cell_type": "markdown",
   "id": "12537f4e",
   "metadata": {},
   "source": [
    "# 2. Canonical weighted tournaments\n"
   ]
  },
  {
   "cell_type": "code",
   "execution_count": 33,
   "id": "7afab3f7",
   "metadata": {},
   "outputs": [],
   "source": [
    "\n",
    "numbers_of_candidates = [2, 3, 4]\n",
    "\n",
    "# name of networkx edge attribute storing each edge's weight\n",
    "edge_attr = 'weight'\n",
    "\n",
    "# possible weights on edges\n",
    "weight_domain = [2, 4, 6, 8, 10, 12]\n",
    "\n",
    "def edge_compare_helper(dict1, dict2, edge_attr):\n",
    "    return dict1[edge_attr] == dict2[edge_attr]\n",
    "\n",
    "edge_compare = (lambda edge_attr: lambda dict1, dict2: edge_compare_helper(dict1, dict2, edge_attr))(edge_attr)"
   ]
  },
  {
   "cell_type": "code",
   "execution_count": 34,
   "id": "ce6c0d98",
   "metadata": {},
   "outputs": [
    {
     "name": "stdout",
     "output_type": "stream",
     "text": [
      "Done loading canonical tournaments.\n",
      "\n",
      "There are 1 canonical tournaments for 2 candidates\n",
      "There are 2 canonical tournaments for 3 candidates\n",
      "There are 4 canonical tournaments for 4 candidates\n",
      "There are 1920 canonical weighted tournaments for 4 candidates\n"
     ]
    }
   ],
   "source": [
    "# Paths to pickled weak tournaments\n",
    "canonical_tournament_paths = {\n",
    "    2: 'tourns/tourns_2.pkl',\n",
    "    3: 'tourns/tourns_3.pkl',\n",
    "    4: 'tourns/tourns_4.pkl',\n",
    "}\n",
    "\n",
    "# Load all the canonical weak tournaments\n",
    "canonical_tournaments = {nc: pickle.load(open(canonical_tournament_paths[nc], 'rb')) \\\n",
    "                         for nc in numbers_of_candidates}\n",
    "\n",
    "print(\"Done loading canonical tournaments.\\n\")\n",
    "\n",
    "for nc in numbers_of_candidates: \n",
    "    print(f\"There are {len(canonical_tournaments[nc])} canonical tournaments for {nc} candidates\")\n",
    "\n",
    "\n",
    "can_graphs = canonical_tournaments\n",
    "\n",
    "canonical_weighted_tournaments = {}\n",
    "\n",
    "for nc, graphs in can_graphs.items():\n",
    "    weighted_tournaments_nc = []\n",
    "\n",
    "    # all combinations of unique edge weights assignable to edges\n",
    "    weightings = ways(weight_domain, comb(nc, 2))\n",
    "    \n",
    "    for graph in graphs:\n",
    "        \n",
    "        for weighting in weightings:\n",
    "            weighted_tournaments_nc_margin_i = []\n",
    "            \n",
    "            # all permutations of the assignable edge weights on the edges\n",
    "            perms = list(permutations(weighting))\n",
    "            \n",
    "            for perm in perms:                    \n",
    "                g1 = deepcopy(graph)\n",
    "                \n",
    "                # assign particular permutation of edge weights to the graph\n",
    "                for i, e in enumerate(g1.edges):\n",
    "                    g1.edges[e][edge_attr] = perm[i]\n",
    "\n",
    "                # if this permutation is isomorphic to one already seen, discard it;\n",
    "                # else add it to the running list of canonical weighted tournaments\n",
    "                if any([nx.algorithms.isomorphism.is_isomorphic(g1, g2, edge_match=edge_compare) \\\n",
    "                        for g2 in weighted_tournaments_nc_margin_i]):\n",
    "                    continue\n",
    "                else:\n",
    "                    weighted_tournaments_nc_margin_i.append(g1)\n",
    "\n",
    "            weighted_tournaments_nc += weighted_tournaments_nc_margin_i\n",
    "                \n",
    "    canonical_weighted_tournaments[nc] = weighted_tournaments_nc\n",
    "    # uncomment to save the graphs\n",
    "    #pickle.dump(canonical_weighted_tournaments[nc], open(f\"weighted_tourns_{nc}.pkl\", \"wb\"))\n",
    "        \n",
    "for nc in numbers_of_candidates:\n",
    "    print(f\"There are {len(canonical_weighted_tournaments[nc])} canonical weighted tournaments for {nc} candidates\")\n"
   ]
  },
  {
   "cell_type": "code",
   "execution_count": null,
   "id": "a05f7de5",
   "metadata": {},
   "outputs": [],
   "source": []
  }
 ],
 "metadata": {
  "kernelspec": {
   "display_name": "Python 3",
   "language": "python",
   "name": "python3"
  },
  "language_info": {
   "codemirror_mode": {
    "name": "ipython",
    "version": 3
   },
   "file_extension": ".py",
   "mimetype": "text/x-python",
   "name": "python",
   "nbconvert_exporter": "python",
   "pygments_lexer": "ipython3",
   "version": "3.8.5"
  },
  "varInspector": {
   "cols": {
    "lenName": 16,
    "lenType": 16,
    "lenVar": 40
   },
   "kernels_config": {
    "python": {
     "delete_cmd_postfix": "",
     "delete_cmd_prefix": "del ",
     "library": "var_list.py",
     "varRefreshCmd": "print(var_dic_list())"
    },
    "r": {
     "delete_cmd_postfix": ") ",
     "delete_cmd_prefix": "rm(",
     "library": "var_list.r",
     "varRefreshCmd": "cat(var_dic_list()) "
    }
   },
   "types_to_exclude": [
    "module",
    "function",
    "builtin_function_or_method",
    "instance",
    "_Feature"
   ],
   "window_display": false
  }
 },
 "nbformat": 4,
 "nbformat_minor": 5
}
