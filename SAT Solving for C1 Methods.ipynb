{
 "cells": [
  {
   "cell_type": "markdown",
   "metadata": {},
   "source": [
    "# SAT Solving for C1 Methods\n",
    "\n",
    "This is a notebook for Appendix A of the paper \"An approach to generalizing some impossibility theorems in social choice\" by Wesley H. Holliday, Eric Pacuit, and Saam Zahedian.  \n",
    "\n",
    "\n",
    "We use a SAT solver to prove that anonymity, neutrality, binary quasi-resoluteness,  binary $\\gamma$, and $\\alpha$-resoluteness are inconsistent."
   ]
  },
  {
   "cell_type": "markdown",
   "metadata": {},
   "source": [
    "## Notebook Overview\n",
    "\n",
    "1. **Canonical (weak) tournament solutions** \n",
    "    1. Canonical (weak) tournaments\n",
    "    2. Orbit condition\n",
    "    \n",
    "2. **SAT setup**\n",
    "    1. Winning set dictionary\n",
    "    2. Functionality\n",
    "\n",
    "3. **Binary quasi-resoluteness**\n",
    "\n",
    "4. **Tournament embeddings**\n",
    "    1. Tournament embedding example\n",
    "    2. Generate canonical (weak) tournament embeddings\n",
    "    \n",
    "5. **Binary $\\gamma$**\n",
    "\n",
    "6. **$\\alpha$-resoluteness**\n",
    "\n",
    "7. **Demonstration of Theorem A.12**\n",
    "    1. Demonstration of Theorem A.12.1\n",
    "    2. Demonstration of Theorem A.12.2\n",
    "    "
   ]
  },
  {
   "cell_type": "code",
   "execution_count": 1,
   "metadata": {},
   "outputs": [],
   "source": [
    "from itertools import product, combinations, chain\n",
    "import pickle\n",
    "import networkx as nx # for graphs\n",
    "import matplotlib.pyplot as plt\n",
    "from pysat.solvers import Glucose3 # SAT solver"
   ]
  },
  {
   "cell_type": "code",
   "execution_count": 2,
   "metadata": {},
   "outputs": [],
   "source": [
    "# helper functions\n",
    "\n",
    "def display_wt(wt):\n",
    "    \"\"\"Display a (weak) tournament\"\"\"\n",
    "    pos = nx.circular_layout(wt)\n",
    "    nx.draw(wt, pos, font_size=20, node_color='blue', font_color='white', \n",
    "            node_size = 700, width=1, with_labels=True)\n",
    "    plt.show()\n",
    "\n",
    "def is_maj_preferred(wt, c1, c2): \n",
    "    \"\"\"True if c1 is majority preferred to c2\"\"\"\n",
    "    return wt.has_edge(c1, c2)\n",
    "\n",
    "def is_tournament(wt):\n",
    "    \"\"\"test if a weak tournament is a tournament\"\"\"\n",
    "    candidates = wt.nodes\n",
    "    is_t = True\n",
    "    for c1 in candidates: \n",
    "        for c2 in candidates: \n",
    "            if c1 != c2 and not is_maj_preferred(wt,c1,c2) and not is_maj_preferred(wt,c2,c1):\n",
    "                is_t = False\n",
    "    return is_t\n",
    "\n",
    "def findsubsets(s, n):\n",
    "    \"\"\"all subsets of the list s of size n\"\"\" \n",
    "    return [set(i) for i in combinations(s, n)] \n",
    "\n",
    "def powerset_ne(fullset):\n",
    "    \"\"\"return all non-empty subsets of fullset\"\"\"\n",
    "    listrep = list(fullset)\n",
    "    n = len(listrep)\n",
    "    all_subsets = [[listrep[k] for k in range(n) if i&1<<k ] for i in range(2**n)]\n",
    "    return [sorted(s) for s in all_subsets if len(s) > 0]\n",
    "\n",
    "def all_included(listlike, items):\n",
    "    \"\"\"\n",
    "    helper for powerset_ne_plus\n",
    "    returns true if all members of items are in listlike\n",
    "    \"\"\"\n",
    "    for item in items:\n",
    "        if item not in listlike:\n",
    "            return False\n",
    "    return True\n",
    "\n",
    "def powerset_ne_plus(listlike, items):\n",
    "    \"\"\"returns all non-empty subsets of setlike which include elements of items\"\"\"\n",
    "    return [sorted(pset) for pset in powerset_ne(listlike) if all_included(pset, items)]\n",
    "\n",
    "\n",
    "def powerset(iterable):\n",
    "    \"powerset([1,2,3]) --> () (1,) (2,) (3,) (1,2) (1,3) (2,3) (1,2,3)\"\n",
    "    s = list(iterable)\n",
    "    return chain.from_iterable(combinations(s, r) for r in range(len(s)+1))\n",
    "\n",
    "def concat(ls): \n",
    "    return list(chain.from_iterable(ls))\n"
   ]
  },
  {
   "cell_type": "markdown",
   "metadata": {},
   "source": [
    "## 1. Canonical (weak) tournaments solutions"
   ]
  },
  {
   "cell_type": "markdown",
   "metadata": {},
   "source": [
    "### A. Canonical (weak) tournaments\n",
    "\n",
    "To see how the canonical (weak) tournaments are generated, see the notebook Canonical_Tournaments.ipynb."
   ]
  },
  {
   "cell_type": "code",
   "execution_count": 3,
   "metadata": {},
   "outputs": [
    {
     "name": "stdout",
     "output_type": "stream",
     "text": [
      "There are 2 canonical weak tournaments for 2 candidates\n",
      "There are 7 canonical weak tournaments for 3 candidates\n",
      "There are 42 canonical weak tournaments for 4 candidates\n",
      "There are 582 canonical weak tournaments for 5 candidates\n",
      "There are 21480 canonical weak tournaments for 6 candidates\n",
      "\n",
      "There are 1 canonical tournaments for 2 candidates\n",
      "There are 2 canonical tournaments for 3 candidates\n",
      "There are 4 canonical tournaments for 4 candidates\n",
      "There are 12 canonical tournaments for 5 candidates\n",
      "There are 56 canonical tournaments for 6 candidates\n"
     ]
    }
   ],
   "source": [
    "# Only consider tournaments up to six candidates\n",
    "numbers_of_candidates = [2, 3, 4, 5, 6]\n",
    "\n",
    "# Paths to pickled weak tournaments\n",
    "canonical_weak_tournament_paths = {\n",
    "    2: 'weak_tourns/weak_tourns_2.pkl',\n",
    "    3: 'weak_tourns/weak_tourns_3.pkl',\n",
    "    4: 'weak_tourns/weak_tourns_4.pkl',\n",
    "    5: 'weak_tourns/weak_tourns_5.pkl',\n",
    "    6: 'weak_tourns/weak_tourns_6.pkl'\n",
    "}\n",
    "\n",
    "# Load all the canonical weak tournaments\n",
    "canonical_weak_tournaments = {nc: pickle.load(open(canonical_weak_tournament_paths[nc], 'rb')) \\\n",
    "                              for nc in numbers_of_candidates}\n",
    "\n",
    "\n",
    "\n",
    "for nc in numbers_of_candidates: \n",
    "    print(f\"There are {len(canonical_weak_tournaments[nc])} canonical weak tournaments for {nc} candidates\")\n",
    "\n",
    "print()\n",
    "\n",
    "# Paths to pickled weak tournaments\n",
    "canonical_tournament_paths = {\n",
    "    2: 'tourns/tourns_2.pkl',\n",
    "    3: 'tourns/tourns_3.pkl',\n",
    "    4: 'tourns/tourns_4.pkl',\n",
    "    5: 'tourns/tourns_5.pkl',\n",
    "    6: 'tourns/tourns_6.pkl'\n",
    "}\n",
    "\n",
    "# Load all the canonical weak tournaments\n",
    "canonical_tournaments = {nc: pickle.load(open(canonical_tournament_paths[nc], 'rb')) \\\n",
    "                         for nc in numbers_of_candidates}\n",
    "\n",
    "for nc in numbers_of_candidates: \n",
    "    print(f\"There are {len(canonical_tournaments[nc])} canonical tournaments for {nc} candidates\")\n",
    "    \n",
    "    "
   ]
  },
  {
   "cell_type": "markdown",
   "metadata": {},
   "source": [
    "### B. Orbit condition\n",
    "\n",
    "Now for each weak tournament $T$, we find all non-empty $Y \\subseteq X(T)$ such that $(T, Y)$ satisfies the orbit condition (Definition 4.5)."
   ]
  },
  {
   "cell_type": "code",
   "execution_count": 4,
   "metadata": {
    "scrolled": true
   },
   "outputs": [],
   "source": [
    "def orbit_condition(orbit, ws): \n",
    "    \"\"\"\n",
    "    orbit is a set of candidates and ws is a winning set\n",
    "    returns true if the orbit condition is satisfied\n",
    "    \"\"\"\n",
    "    return set(orbit).issubset(set(ws)) or not bool(set(orbit).intersection(set(ws)))\n",
    "\n",
    "def find_possible_winners(min_num_cands, max_num_cands, canonical_graphs): \n",
    "    \"\"\"\n",
    "    takes dictionary of canonical graphs and range of graph sizes to consider\n",
    "    for each canonical graph, creates tuples containing the graph and winning sets that satisfy the orbit condition\n",
    "    \"\"\"\n",
    "    possible_winners = {nc: list() for nc in range(min_num_cands, max_num_cands + 1)}\n",
    "    for nc in possible_winners.keys():\n",
    "        for g in canonical_graphs[nc]:\n",
    "            candidates = g.nodes\n",
    "\n",
    "            # all the automorophism on wt\n",
    "            automorphisms = list(nx.algorithms.isomorphism.GraphMatcher(g, g).isomorphisms_iter())\n",
    "\n",
    "            # find the orbits\n",
    "            _orbits=list()\n",
    "            for c in candidates: \n",
    "                _orbit = list()\n",
    "                for aut in automorphisms: \n",
    "                    _orbit.append(aut[c])\n",
    "                _orbits.append(tuple(set(_orbit)))\n",
    "            orbits = list(set(_orbits))\n",
    "\n",
    "            # find the possible winning sets for wt\n",
    "            for ws in powerset_ne(candidates): \n",
    "                if all([orbit_condition(orbit, ws) for orbit in orbits]):\n",
    "                    possible_winners[nc].append((g, ws))\n",
    "    return possible_winners"
   ]
  },
  {
   "cell_type": "markdown",
   "metadata": {},
   "source": [
    "## 2. SAT setup  \n",
    " \n",
    "We use the [PySAT](https://pysathq.github.io/) toolkit to interface with a SAT solver. Formulas in PySAT are written in conjunctive normal form. Disjunctions are written as lists of integers. A positive integer denotes a propositional variable, a negative integer its negation.\n",
    "\n",
    "For a canonical weak tournament $T_C$ and a possible winning set $Y$, let $A_{T_C,Y}$ be a propositional variable, where\n",
    "$A_{T_C,Y}$ means that $Y$ is the winning set associated with $T_C$ and  $\\neg A_{T_C,Y}$ means that $Y$ is not the winning set associated with $T_C$.\n",
    "\n",
    "\n",
    "### A. Winning set dictionary"
   ]
  },
  {
   "cell_type": "code",
   "execution_count": 5,
   "metadata": {},
   "outputs": [],
   "source": [
    "def generate_wt_dictionary(possible_winners):\n",
    "    \"\"\"\n",
    "    takes a dictionary of (weak) tournaments and returns a dictionary (t, ws) -> int\n",
    "    t is a tournament in 'possible_winners' and ws is a winning set on t satisfying the orbit condition\n",
    "    \"\"\"\n",
    "    wt_dictionary = {}\n",
    "    wt_id = 1\n",
    "    for nc in possible_winners.keys(): \n",
    "        for wt, ws in possible_winners[nc]:\n",
    "            wt_dictionary.update({(wt, tuple(ws)): wt_id})\n",
    "            wt_id += 1\n",
    "    return wt_dictionary"
   ]
  },
  {
   "cell_type": "markdown",
   "metadata": {},
   "source": [
    "### B. Functionality\n",
    "\n",
    "The first step is to write a list of clauses expressing functionality. The concept is that for each weighted weak tournament $T$, some possible winning set is associated with $T$, and it is not the case that two winning sets are associated with $T$.\n",
    "\n",
    "For instance, suppose that $T$ is a weak tournament and there are three possible winning sets for $T$,  $Y_1$, $Y_2$ and $Y_3$. We add the following conjuncts to the formula: \n",
    "\n",
    "1. $A_{T,Y_1}\\vee A_{T,Y_2}\\vee A_{T,Y_3}$\n",
    "2. $\\neg A_{T,Y_1}\\vee \\neg A_{T,Y_2}$\n",
    "3. $\\neg A_{T,Y_1}\\vee \\neg A_{T,Y_3}$\n",
    "4. $\\neg A_{T,Y_2}\\vee \\neg A_{T,Y_3}$.\n",
    "\n",
    "The conjunction of these formulas says that exactly one of formulas $A_{T,Y_1}$, $A_{T, Y_2}$ or $A_{T, Y_3}$ is true: \n",
    "\n",
    "$$(A_{T,Y_1}\\vee A_{T,Y_2}\\vee A_{T,Y_3}) \\wedge (\\neg A_{T,Y_1}\\vee \\neg A_{T,Y_2})\\wedge (\\neg A_{T,Y_1}\\vee \\neg A_{T,Y_3})\\wedge (\\neg A_{T,Y_2}\\vee \\neg A_{T,Y_3}).$$\n",
    "\n",
    "Then the above formula means that exactly one of $Y_1$, $Y_2$ or $Y_3$ is the winning set associated with $T$. "
   ]
  },
  {
   "cell_type": "code",
   "execution_count": 6,
   "metadata": {
    "scrolled": true
   },
   "outputs": [],
   "source": [
    "def generate_function_formula(graphs, wt_dictionary): \n",
    "    \"\"\"\n",
    "    takes a list of all graphs 'graphs' and a dictionary of possible winners on those graphs 'wt_dictionary'\n",
    "    returns CNF clauses ensuring that only one winning set will be chosen per graph\n",
    "    \"\"\"\n",
    "    C_func = list()\n",
    "    for g in graphs:     \n",
    "        # get the list of all atomic formulas describing a possible winning set\n",
    "        poss_ws = [wt_dictionary[(_g, ws)] for _g,ws in wt_dictionary.keys() if _g == g]\n",
    "        # NOTE: we use equality rather than testing for graph isomporphism.  This makes sense since\n",
    "        # graphs is the set of the networkx objects representing the canonical weak tournaments and \n",
    "        # the keys of wt_dictionary are tuples where the first components is an object from this lest. \n",
    "        C_func.append(poss_ws) # one of the possible winning sets is the winner\n",
    "        for pairs in combinations(poss_ws, 2):\n",
    "            # add a clause saying that it is not the case that two possible winning sets are associated \n",
    "            # with a single weak tournament\n",
    "            C_func.append([0 - pairs[0], 0 - pairs[1]])\n",
    "\n",
    "    return C_func"
   ]
  },
  {
   "cell_type": "code",
   "execution_count": 7,
   "metadata": {
    "scrolled": true
   },
   "outputs": [
    {
     "name": "stdout",
     "output_type": "stream",
     "text": [
      "Done finding the possible winners.\n",
      "Done creating the encoding.\n",
      "Done creating the function formula.\n",
      "\n",
      "\n",
      "Should be true expressing that there is a tournament solution on the domain: True\n",
      "\n"
     ]
    }
   ],
   "source": [
    "# Sanity check: This should output True since it is always possible \n",
    "# to find some weak tournament solution on a domain of weak tournaments\n",
    "\n",
    "# Warning: 6 candidates takes a long time to run\n",
    "min_num_cands, max_num_cands = 2, 5\n",
    "\n",
    "canonical_graphs = canonical_weak_tournaments\n",
    "graphs = [wt for nc in range(min_num_cands, max_num_cands + 1)  for wt in  canonical_weak_tournaments[nc] ]\n",
    "\n",
    "possible_winners = find_possible_winners(min_num_cands, max_num_cands, canonical_graphs)\n",
    "print(\"Done finding the possible winners.\")\n",
    "\n",
    "wt_dictionary = generate_wt_dictionary(possible_winners)\n",
    "print(\"Done creating the encoding.\")\n",
    "\n",
    "C_func = generate_function_formula(graphs, wt_dictionary)\n",
    "print(\"Done creating the function formula.\\n\\n\")\n",
    "\n",
    "sat_solver = Glucose3()\n",
    "for cl in C_func:\n",
    "    sat_solver.add_clause(cl)\n",
    "print(f\"Should be true expressing that there is a tournament solution on the domain: {sat_solver.solve()}\\n\")\n",
    "\n",
    "# uncomment to see the model (list of literals that are true)\n",
    "#print(sat_solver.get_model())"
   ]
  },
  {
   "cell_type": "markdown",
   "metadata": {},
   "source": [
    "## 3. Binary quasi-resoluteness"
   ]
  },
  {
   "cell_type": "code",
   "execution_count": 8,
   "metadata": {},
   "outputs": [],
   "source": [
    "def generate_binary_qr_formula(canonical_graphs, wt_dictionary):\n",
    "    C_bqr = list()\n",
    "    \n",
    "    for g in canonical_graphs[2]:\n",
    "        if len(g.edges) > 0:\n",
    "            clause = []\n",
    "\n",
    "            for pw in [_ws for _g, _ws in wt_dictionary.keys() if _g == g]:\n",
    "                if len(pw) == 1:\n",
    "                    clause += [wt_dictionary[(g, pw)]]\n",
    "\n",
    "            C_bqr.append(clause)\n",
    "        \n",
    "    return C_bqr"
   ]
  },
  {
   "cell_type": "markdown",
   "metadata": {},
   "source": [
    "## 4. Tournament embeddings\n",
    "\n",
    "Note that we use \"embedding\" as it is used in model theory, which is equivalent to being isomorphic to a substructure (see W. Hodges, \"Model Theory\", pp. 5-6). A canonical weak tournament $T'$ is a substructure of the canonical weak tournament $T$ when the set of candidates of $T'$ is a subset of the set of candidates of $T$ and for any candidates $x, y$ in $T'$, there is an edge from $x$ to $y$ in $T'$ if and only if there is an edge from $x$ to $y$ in $T$.  \n",
    "\n",
    "[Networkx](https://networkx.org/documentation/stable/reference/algorithms/isomorphism.vf2.html#digraph-matcher) has an algorithm to find isomorphisms from *subgraphs* of $T$ to a graph $T'$.  However, what networkx means by a \"subgraph\" is not the same as a substructure.   A canonical weak tournament $T'$ is a *subgraph* of $T$ when the set of candidates of $T'$ is a subset of the set of candidates of $T$ and  for any candidates $x, y$ in $T'$, if there is an edge from $x$ to $y$ in $T'$, then there is an edge from $x$ to $y$ in $T$. "
   ]
  },
  {
   "cell_type": "markdown",
   "metadata": {},
   "source": [
    "### A. Tournament embedding example\n",
    "\n",
    "Run the  following code to illustrate the definition of a tournament embedding and why an isomporphism to a subgraph is not necessarily a tournament embedding.  "
   ]
  },
  {
   "cell_type": "markdown",
   "metadata": {},
   "source": []
  },
  {
   "cell_type": "code",
   "execution_count": 9,
   "metadata": {},
   "outputs": [
    {
     "name": "stdout",
     "output_type": "stream",
     "text": [
      "T1: a canonical weak tournament for 4 candidates: \n"
     ]
    },
    {
     "data": {
      "image/png": "[encoded data removed]",
      "text/plain": [
       "<Figure size 432x288 with 1 Axes>"
      ]
     },
     "metadata": {},
     "output_type": "display_data"
    },
    {
     "name": "stdout",
     "output_type": "stream",
     "text": [
      "T2: a canonical weak tournament for 3 candidates: \n"
     ]
    },
    {
     "data": {
      "image/png": "[encoded data removed]",
      "text/plain": [
       "<Figure size 432x288 with 1 Axes>"
      ]
     },
     "metadata": {},
     "output_type": "display_data"
    },
    {
     "name": "stdout",
     "output_type": "stream",
     "text": [
      "All the isomorphisms between the weak tournament T2 with 3 candidates and subgraphs of the weak tournament T1 with 4 candidates:\n",
      "\n",
      "e(0) = 0, e(1) = 1, e(2) = 2\n",
      "\tThis mapping is a tournament embedding\n",
      "\n",
      "e(0) = 0, e(1) = 2, e(2) = 3\n",
      "\tThere is an edge from 0 to 3 in T1\n",
      "\tBut no edge from  0 to 2 in T2\n",
      "\tSo this mapping is not a tournament embedding of T2 into T1\n",
      "\n",
      "e(0) = 0, e(1) = 3, e(2) = 1\n",
      "\tThere is an edge from 0 to 3 in T1\n",
      "\tBut no edge from  0 to 1 in T2\n",
      "\tSo this mapping is not a tournament embedding of T2 into T1\n",
      "\n",
      "e(0) = 1, e(1) = 3, e(2) = 0\n",
      "\tThere is an edge from 1 to 3 in T1\n",
      "\tBut no edge from  0 to 1 in T2\n",
      "\tSo this mapping is not a tournament embedding of T2 into T1\n",
      "\n"
     ]
    }
   ],
   "source": [
    "T1 = canonical_weak_tournaments[4][20]\n",
    "\n",
    "print(\"T1: a canonical weak tournament for 4 candidates: \")\n",
    "display_wt(T1)\n",
    "\n",
    "print(\"T2: a canonical weak tournament for 3 candidates: \")\n",
    "T2 = canonical_weak_tournaments[3][1]\n",
    "display_wt(T2)\n",
    "\n",
    "print(\"All the isomorphisms between the weak tournament T2 with 3 candidates and subgraphs of the weak tournament T1 with 4 candidates:\\n\")\n",
    "for iso in nx.algorithms.isomorphism.GraphMatcher(T1, T2).subgraph_isomorphisms_iter():\n",
    "    \n",
    "    # iso is a dictionary mapping a subset of elements of the bigger graph T1 to the \n",
    "    # small graph T2, but it is easier to think about the inverse function mapping \n",
    "    # nodes in the small graph T2 into the bigger graph T1. \n",
    "    inverse_iso = {v:k for k,v in iso.items()}\n",
    "    \n",
    "    print(\", \".join([f\"e({c1}) = {c2}\" for c1, c2 in inverse_iso.items()]))\n",
    "    \n",
    "    is_embedding = True\n",
    "    for c1, c2 in product(T2.nodes, T2.nodes): \n",
    "        if T1.has_edge(inverse_iso[c1],inverse_iso[c2]) and not T2.has_edge(c1,c2):\n",
    "            print(f\"\\tThere is an edge from {inverse_iso[c1]} to {inverse_iso[c2]} in T1\")\n",
    "            print(f\"\\tBut no edge from  {c1} to {c2} in T2\")\n",
    "            print(\"\\tSo this mapping is not a tournament embedding of T2 into T1\\n\")\n",
    "            is_embedding=False\n",
    "    \n",
    "    if is_embedding: \n",
    "        print(\"\\tThis mapping is a tournament embedding\\n\")"
   ]
  },
  {
   "cell_type": "markdown",
   "metadata": {},
   "source": [
    "To deal with this issue, we define a function which checks if a Networkx subgraph isomorphism is indeed a tournament embedding."
   ]
  },
  {
   "cell_type": "code",
   "execution_count": 10,
   "metadata": {},
   "outputs": [],
   "source": [
    "def is_embedding(small_g, big_g, iso):\n",
    "    \"\"\"\n",
    "    iso is an isomorphism from small_g to a subgraph of big_g,\n",
    "    but we must check whether iso is an embedding. \n",
    "    returns True if iso is an embedding of small_g into big_g. \n",
    "    \n",
    "    Returns True if for every pair of candidates c1 and c2 in small_g, \n",
    "    if there is an edge between iso[c1] and iso[c2] in big_g, then \n",
    "    there is an edge between c1 and c2 in small_g\n",
    "    \"\"\"\n",
    "    for c1, c2 in product(small_g.nodes, small_g.nodes): \n",
    "        if big_g.has_edge(iso[c1],iso[c2]) and not small_g.has_edge(c1,c2):\n",
    "            return False\n",
    "    return True    "
   ]
  },
  {
   "cell_type": "markdown",
   "metadata": {},
   "source": [
    "### B. Generate canonical (weak) tournament embeddings\n",
    "\n",
    "Find all canonical (weak) tournament embeddings from canonical (weak) tournaments of size $n$ into canonical (weak) tournaments of size $n+1$. "
   ]
  },
  {
   "cell_type": "code",
   "execution_count": 11,
   "metadata": {},
   "outputs": [],
   "source": [
    "def find_embeddings_g1_g2(g1, g2):\n",
    "    embeddings = list()\n",
    "    \n",
    "    seen_ranges = set()\n",
    "\n",
    "    for iso in nx.algorithms.isomorphism.GraphMatcher(g2, g1).subgraph_isomorphisms_iter():\n",
    "        # for each isomporphism from g1 to a subgraph of g2\n",
    "\n",
    "        # NOTE: iso is a dictionary associating a subset of nodes from g2 to the nodes in g1\n",
    "        # It's easier to think about the isomorphism as a mapping from the smaller graph g1 \n",
    "        # into the bigger graph g2:\n",
    "        inverse_iso = {v:k for k,v in iso.items()}\n",
    "\n",
    "        rng = tuple(sorted(iso.keys())) # the range of the isomorphism (nodes in the bigger graph)\n",
    "        if not rng in seen_ranges and is_embedding(g1, g2, inverse_iso): \n",
    "            # if haven't seen the range yet and g1 is an embedding into g2\n",
    "            seen_ranges.add(rng)\n",
    "            # record the smaller graph g1, larger graph g2 and isomorphism from g1 to g2\n",
    "            embeddings.append((g1, g2, inverse_iso))  \n",
    "            \n",
    "    return embeddings"
   ]
  },
  {
   "cell_type": "code",
   "execution_count": 12,
   "metadata": {
    "scrolled": false
   },
   "outputs": [],
   "source": [
    "def find_embeddings(min_num_cands, max_num_cands, canonical_graphs):\n",
    "    \"\"\"\n",
    "    find embeddings of graphs in 'canonical_graphs',\n",
    "    embeddings of n-tournaments to (n+1)-tournaments, for n=min_num_cands,...,max_num_cands-1\n",
    "    \"\"\"\n",
    "    embeddings = list()\n",
    "    \n",
    "    for nc in range(min_num_cands, max_num_cands): \n",
    "        # for each number of candidate between min_num_cands and max_num_cands - 1  \n",
    "        for g1 in canonical_graphs[nc]: \n",
    "            # for each canonical graph of size nc    \n",
    "            for g2 in canonical_graphs[nc+1]:\n",
    "                # for each canonical graph of size nc+1\n",
    "                embeddings += find_embeddings_g1_g2(g1, g2)\n",
    "\n",
    "    return embeddings"
   ]
  },
  {
   "cell_type": "code",
   "execution_count": 13,
   "metadata": {},
   "outputs": [],
   "source": [
    "def find_embeddings_2(max_num_cands, canonical_graphs):\n",
    "    embeddings_2 = list()\n",
    "    \n",
    "    for g1 in canonical_graphs[2]:\n",
    "        for nc in range(3, max_num_cands+1):\n",
    "            for g2 in canonical_graphs[nc]:\n",
    "                embeddings_2 += find_embeddings_g1_g2(g1, g2)\n",
    "                \n",
    "    return embeddings_2"
   ]
  },
  {
   "cell_type": "markdown",
   "metadata": {},
   "source": [
    "## 5. Binary $\\gamma$"
   ]
  },
  {
   "cell_type": "code",
   "execution_count": 14,
   "metadata": {
    "scrolled": true
   },
   "outputs": [],
   "source": [
    "def generate_bg_formula(min_num_cands, \n",
    "                         max_num_cands, \n",
    "                         canonical_graphs, \n",
    "                         wt_dictionary, \n",
    "                         possible_winners, \n",
    "                         embeddings,\n",
    "                         embeddings_2): \n",
    "    \"\"\"\n",
    "    returns CNF clauses expressing binary gamma\n",
    "    \"\"\"\n",
    "\n",
    "    C_bg = list()\n",
    "\n",
    "    for nc in range(min_num_cands, max_num_cands+1):\n",
    "\n",
    "        for t in canonical_graphs[nc]:\n",
    "            # for each canonical graph on nc candidates\n",
    "            \n",
    "            E_t = [_emb for _emb in embeddings if _emb[1] == t]\n",
    "            F_t = [_emb for _emb in embeddings_2 if _emb[1] == t]\n",
    "            for emb in E_t: \n",
    "                # for each embedding into t from canonical graph emb[0]\n",
    "                \n",
    "                t_prime, _, e = emb \n",
    "                # t_prime is a canonical graph on nc-1 candidates, which t embeds into\n",
    "                \n",
    "                new_cand = list(set(t.nodes).difference(set(e.values())))[0]\n",
    "\n",
    "                #new_cand = list(set(emb[1].nodes).difference(set(emb[2].values())))[0]\n",
    "                # new_cand is the candidate in t1 not in the range of the embedding from t_prime to t\n",
    "                \n",
    "                restricted_F_t = [_emb for _emb in F_t if new_cand in set(_emb[2].values())]\n",
    "                \n",
    "                for emb_2 in restricted_F_t:\n",
    "                    # for each embedding into t from canonical 2-candidate graph emb_2[0]\n",
    "                    \n",
    "                    t_dblprime, _, f = emb_2\n",
    "                    \n",
    "                    a = list(set(e.values()).intersection(f.values()))[0]\n",
    "                    \n",
    "                    a_preimage_in_t_prime = [t_prime_cand for t_prime_cand, t_cand in e.items() \n",
    "                                             if t_cand == a][0]\n",
    "                    a_preimage_in_t_dblprime = [t_dblprime_cand for t_dblprime_cand, t_cand in f.items()\n",
    "                                             if t_cand == a][0]\n",
    "                    \n",
    "                    if (t_dblprime, tuple([a_preimage_in_t_dblprime])) in wt_dictionary:\n",
    "                        A_t_dblprime = wt_dictionary[(t_dblprime, tuple([a_preimage_in_t_dblprime]))]\n",
    "\n",
    "                        for A_t_prime in [wt_dictionary[t_prime, tuple(_ws)] \n",
    "                                          for _ws in powerset_ne_plus(t_prime.nodes, [a_preimage_in_t_prime])\n",
    "                                          if (t_prime, tuple(_ws)) in wt_dictionary]:\n",
    "                            clause = [-A_t_prime, -A_t_dblprime]\n",
    "                            clause += [wt_dictionary[t, tuple(_ws)]\n",
    "                                      for _ws in powerset_ne_plus(t.nodes, [a])\n",
    "                                      if (t, tuple(_ws)) in wt_dictionary]\n",
    "\n",
    "                            C_bg.append(clause)\n",
    "                        \n",
    "            \n",
    "    return C_bg"
   ]
  },
  {
   "cell_type": "markdown",
   "metadata": {},
   "source": [
    "## 6. $\\alpha$-resoluteness"
   ]
  },
  {
   "cell_type": "code",
   "execution_count": 15,
   "metadata": {},
   "outputs": [],
   "source": [
    "def generate_ar_formula(min_num_cands, \n",
    "                         max_num_cands, \n",
    "                         canonical_graphs, \n",
    "                         wt_dictionary, \n",
    "                         possible_winners, \n",
    "                         embeddings,\n",
    "                         embeddings_2): \n",
    "    \"\"\"\n",
    "    returns CNF clauses expressing binary gamma\n",
    "    \"\"\"\n",
    "\n",
    "    C_ar = list()\n",
    "\n",
    "    for nc in range(min_num_cands, max_num_cands+1):\n",
    "\n",
    "        for t in canonical_graphs[nc]:\n",
    "            # for each canonical graph on nc candidates\n",
    "            \n",
    "            E_t = [_emb for _emb in embeddings if _emb[1] == t]\n",
    "            F_t = [_emb for _emb in embeddings_2 if _emb[1] == t]\n",
    "            for emb in E_t: \n",
    "                # for each embedding into t from canonical graph emb[0]\n",
    "                \n",
    "                t_prime, _, e = emb \n",
    "                # t_prime is a canonical graph on nc-1 candidates, which t embeds into\n",
    "                \n",
    "                new_cand = list(set(t.nodes).difference(set(e.values())))[0]\n",
    "\n",
    "                #new_cand = list(set(emb[1].nodes).difference(set(emb[2].values())))[0]\n",
    "                # new_cand is the candidate in t1 not in the range of the embedding from t_prime to t\n",
    "                \n",
    "                restricted_F_t = [_emb for _emb in F_t if new_cand in set(_emb[2].values())]\n",
    "                \n",
    "                for emb_2 in restricted_F_t:\n",
    "                    # for each embedding into t from canonical 2-candidate graph emb_2[0]\n",
    "                    \n",
    "                    t_dblprime, _, f = emb_2\n",
    "                    \n",
    "                    a = list(set(e.values()).intersection(f.values()))[0]\n",
    "                    \n",
    "                    a_preimage_in_t_prime = [t_prime_cand for t_prime_cand, t_cand in e.items() \n",
    "                                             if t_cand == a][0]\n",
    "                    a_preimage_in_t_dblprime = [t_dblprime_cand for t_dblprime_cand, t_cand in f.items()\n",
    "                                             if t_cand == a][0]\n",
    "                    \n",
    "                    if (t_dblprime, tuple([a_preimage_in_t_dblprime])) in wt_dictionary:\n",
    "                        A_t_dblprime = wt_dictionary[(t_dblprime, tuple([a_preimage_in_t_dblprime]))]\n",
    "                    \n",
    "                        for ws_t_prime in [_ws for _ws in powerset_ne_plus(t_prime.nodes, [a_preimage_in_t_prime])\n",
    "                                          if (t_prime, tuple(_ws)) in wt_dictionary]:\n",
    "                            A_t_prime = wt_dictionary[t_prime, tuple(ws_t_prime)]\n",
    "                            clause = [-A_t_prime, -A_t_dblprime]\n",
    "                            clause += [wt_dictionary[(t, tuple(_ws))]\n",
    "                                      for _ws in powerset_ne(t.nodes)\n",
    "                                      if (t, tuple(_ws)) in wt_dictionary and len(_ws) <= len(ws_t_prime)]\n",
    "\n",
    "                            C_ar.append(clause)\n",
    "                        \n",
    "            \n",
    "    return C_ar"
   ]
  },
  {
   "cell_type": "markdown",
   "metadata": {
    "scrolled": false
   },
   "source": [
    "## 7. Demonstration of Theorem A.12"
   ]
  },
  {
   "cell_type": "markdown",
   "metadata": {},
   "source": [
    "### A.  Demonstration of Theorem A.12.1"
   ]
  },
  {
   "cell_type": "code",
   "execution_count": 16,
   "metadata": {},
   "outputs": [
    {
     "name": "stdout",
     "output_type": "stream",
     "text": [
      "Done finding the possible winners.\n",
      "Done creating the encoding.\n",
      "Done creating the function formula.\n"
     ]
    }
   ],
   "source": [
    "min_num_cands,max_num_cands = 2, 5\n",
    "\n",
    "canonical_graphs = canonical_weak_tournaments\n",
    "graphs = [wt for nc in range(min_num_cands, max_num_cands + 1) for wt in  canonical_graphs[nc]]\n",
    "\n",
    "possible_winners = find_possible_winners(min_num_cands, max_num_cands, canonical_graphs)\n",
    "print(\"Done finding the possible winners.\")\n",
    "\n",
    "wt_dictionary = generate_wt_dictionary(possible_winners)\n",
    "print(\"Done creating the encoding.\")\n",
    "\n",
    "C_func = generate_function_formula(graphs, wt_dictionary)\n",
    "print(\"Done creating the function formula.\")\n",
    "\n",
    "embeddings = find_embeddings(min_num_cands, max_num_cands, canonical_graphs)\n",
    "embeddings_2 = find_embeddings_2(max_num_cands, canonical_graphs)"
   ]
  },
  {
   "cell_type": "code",
   "execution_count": 17,
   "metadata": {},
   "outputs": [
    {
     "name": "stdout",
     "output_type": "stream",
     "text": [
      "Done creating the BG formula.\n",
      "Done creating the AR formula.\n",
      "Done creating BQR formula\n"
     ]
    }
   ],
   "source": [
    "C_bg = generate_bg_formula(min_num_cands, \n",
    "                             max_num_cands, \n",
    "                             canonical_graphs, \n",
    "                             wt_dictionary, \n",
    "                             possible_winners, \n",
    "                             embeddings,\n",
    "                             embeddings_2\n",
    "                            )\n",
    "print(\"Done creating the BG formula.\")\n",
    "\n",
    "C_ar = generate_ar_formula(min_num_cands, \n",
    "                             max_num_cands, \n",
    "                             canonical_graphs, \n",
    "                             wt_dictionary, \n",
    "                             possible_winners, \n",
    "                             embeddings,\n",
    "                             embeddings_2\n",
    "                            )\n",
    "print(\"Done creating the AR formula.\")\n",
    "\n",
    "C_bqr = generate_binary_qr_formula(canonical_graphs, wt_dictionary)\n",
    "print(\"Done creating BQR formula\")"
   ]
  },
  {
   "cell_type": "code",
   "execution_count": 18,
   "metadata": {},
   "outputs": [
    {
     "name": "stdout",
     "output_type": "stream",
     "text": [
      "There is a canonical weak tournament solution, satisfying the orbit condition, up to 5 candidates that satisfies BG, AR, and BQR.\n"
     ]
    }
   ],
   "source": [
    "formula =  C_func + C_bg + C_ar + C_bqr\n",
    "sat_solver = Glucose3()\n",
    "for cl in formula:\n",
    "    sat_solver.add_clause(cl)\n",
    "\n",
    "if sat_solver.solve(): \n",
    "    print(f\"There is a canonical weak tournament solution, satisfying the orbit condition, up to {max_num_cands} candidates that satisfies BG, AR, and BQR.\")\n",
    "else: \n",
    "    print(f\"There is no canonical weak tournament solution, satisfying the orbit condition, up to {max_num_cands} candidates that satisfies BG, AR, and BQR.\")\n",
    "\n",
    "# uncomment to see the model (list of literals that are true)\n",
    "#print(sat_solver.get_model())\n",
    "vm = sat_solver.get_model()"
   ]
  },
  {
   "cell_type": "code",
   "execution_count": 19,
   "metadata": {},
   "outputs": [
    {
     "name": "stdout",
     "output_type": "stream",
     "text": [
      "+ There is a canonical weak tournament solution, satisfying the orbit condition, up to 5 candidates.\n",
      "\n",
      "+ There is a canonical weak tournament solution, satisfying the orbit condition, up to 5 candidates that satisfies AR.\n",
      "\n",
      "+ There is a canonical weak tournament solution, satisfying the orbit condition, up to 5 candidates that satisfies BG.\n",
      "\n",
      "+ There is a canonical weak tournament solution, satisfying the orbit condition, up to 5 candidates that satisfies BQR.\n",
      "\n",
      "+ There is a canonical weak tournament solution, satisfying the orbit condition, up to 5 candidates that satisfies AR, BG.\n",
      "\n",
      "+ There is a canonical weak tournament solution, satisfying the orbit condition, up to 5 candidates that satisfies AR, BQR.\n",
      "\n",
      "+ There is a canonical weak tournament solution, satisfying the orbit condition, up to 5 candidates that satisfies BG, BQR.\n",
      "\n",
      "+ There is a canonical weak tournament solution, satisfying the orbit condition, up to 5 candidates that satisfies AR, BG, BQR.\n",
      "\n"
     ]
    }
   ],
   "source": [
    "formulas = {\n",
    "    \"AR\": C_ar, \n",
    "    \"BG\": C_bg,\n",
    "    \"BQR\": C_bqr\n",
    "}\n",
    "\n",
    "for fmls in powerset(formulas.keys()):\n",
    "    \n",
    "    formula =  concat([C_func] + [formulas[f] for f in fmls])\n",
    "    sat_solver = Glucose3()\n",
    "    for cl in formula:\n",
    "        sat_solver.add_clause(cl)\n",
    "\n",
    "    if sat_solver.solve(): \n",
    "        print(f\"+ There is a canonical weak tournament solution, satisfying the orbit condition, up to {max_num_cands} candidates{' that satisfies ' + ', '.join(fmls) + '.' if len(fmls) > 0 else '.'}\\n\")\n",
    "    else: \n",
    "        print(f\"- There is no canonical weak tournament solution, satisfying the orbit condition, up to {max_num_cands} candidates{' that satisfies ' + ', '.join(fmls) + '.' if len(fmls) > 0 else '.'}\\n\")\n",
    "    #vm = sat_solver.get_model()"
   ]
  },
  {
   "cell_type": "markdown",
   "metadata": {},
   "source": [
    "### B.  Demonstration of Theorem A.12.2\n",
    "\n",
    "Note that in this section, the SAT solver only considers formulas derived from canonical tournaments, as opposed to canonical weak tournaments."
   ]
  },
  {
   "cell_type": "code",
   "execution_count": 20,
   "metadata": {},
   "outputs": [
    {
     "name": "stdout",
     "output_type": "stream",
     "text": [
      "Done finding the possible winners.\n",
      "Done creating the encoding.\n",
      "Done creating the function formula.\n"
     ]
    }
   ],
   "source": [
    "min_num_cands,max_num_cands = 2, 6\n",
    "\n",
    "canonical_graphs = canonical_tournaments\n",
    "graphs = [wt for nc in range(min_num_cands, max_num_cands + 1) for wt in  canonical_graphs[nc]]\n",
    "\n",
    "possible_winners = find_possible_winners(min_num_cands, max_num_cands, canonical_graphs)\n",
    "print(\"Done finding the possible winners.\")\n",
    "\n",
    "wt_dictionary = generate_wt_dictionary(possible_winners)\n",
    "print(\"Done creating the encoding.\")\n",
    "\n",
    "C_func = generate_function_formula(graphs, wt_dictionary)\n",
    "print(\"Done creating the function formula.\")\n",
    "\n",
    "embeddings = find_embeddings(min_num_cands, max_num_cands, canonical_graphs)\n",
    "embeddings_2 = find_embeddings_2(max_num_cands, canonical_graphs)"
   ]
  },
  {
   "cell_type": "code",
   "execution_count": 21,
   "metadata": {},
   "outputs": [
    {
     "name": "stdout",
     "output_type": "stream",
     "text": [
      "Done creating the BG formula.\n",
      "Done creating the AR formula.\n",
      "Done creating BQR formula\n"
     ]
    }
   ],
   "source": [
    "C_bg = generate_bg_formula(min_num_cands, \n",
    "                             max_num_cands, \n",
    "                             canonical_graphs, \n",
    "                             wt_dictionary, \n",
    "                             possible_winners, \n",
    "                             embeddings,\n",
    "                             embeddings_2\n",
    "                            )\n",
    "print(\"Done creating the BG formula.\")\n",
    "\n",
    "C_ar = generate_ar_formula(min_num_cands, \n",
    "                             max_num_cands, \n",
    "                             canonical_graphs, \n",
    "                             wt_dictionary, \n",
    "                             possible_winners, \n",
    "                             embeddings,\n",
    "                             embeddings_2\n",
    "                            )\n",
    "print(\"Done creating the AR formula.\")\n",
    "\n",
    "C_bqr = generate_binary_qr_formula(canonical_graphs, wt_dictionary)\n",
    "print(\"Done creating BQR formula\")"
   ]
  },
  {
   "cell_type": "code",
   "execution_count": 22,
   "metadata": {},
   "outputs": [
    {
     "name": "stdout",
     "output_type": "stream",
     "text": [
      "There is no canonical tournament solution, satisfying the orbit condition, up to 6 candidates that satisfies BG, AR, and BQR.\n"
     ]
    }
   ],
   "source": [
    "formula =  C_func + C_bg + C_ar + C_bqr\n",
    "sat_solver = Glucose3()\n",
    "for cl in formula:\n",
    "    sat_solver.add_clause(cl)\n",
    "\n",
    "if sat_solver.solve(): \n",
    "    print(f\"There is a canonical tournament solution, satisfying the orbit condition, up to {max_num_cands} candidates that satisfies BG, AR, and BQR.\")\n",
    "else: \n",
    "    print(f\"There is no canonical tournament solution, satisfying the orbit condition, up to {max_num_cands} candidates that satisfies BG, AR, and BQR.\")\n",
    "\n",
    "# uncomment to see the model (list of literals that are true)\n",
    "#print(sat_solver.get_model())\n",
    "vm = sat_solver.get_model()"
   ]
  },
  {
   "cell_type": "code",
   "execution_count": 23,
   "metadata": {},
   "outputs": [
    {
     "name": "stdout",
     "output_type": "stream",
     "text": [
      "+ There is a canonical tournament solution, satisfying the orbit condition, up to 6 candidates.\n",
      "\n",
      "+ There is a canonical tournament solution, satisfying the orbit condition, up to 6 candidates that satisfies AR.\n",
      "\n",
      "+ There is a canonical tournament solution, satisfying the orbit condition, up to 6 candidates that satisfies BG.\n",
      "\n",
      "+ There is a canonical tournament solution, satisfying the orbit condition, up to 6 candidates that satisfies BQR.\n",
      "\n",
      "+ There is a canonical tournament solution, satisfying the orbit condition, up to 6 candidates that satisfies AR, BG.\n",
      "\n",
      "+ There is a canonical tournament solution, satisfying the orbit condition, up to 6 candidates that satisfies AR, BQR.\n",
      "\n",
      "+ There is a canonical tournament solution, satisfying the orbit condition, up to 6 candidates that satisfies BG, BQR.\n",
      "\n",
      "- There is no canonical tournament solution, satisfying the orbit condition, up to 6 candidates that satisfies AR, BG, BQR.\n",
      "\n"
     ]
    }
   ],
   "source": [
    "from itertools import chain, combinations\n",
    "\n",
    "def powerset(iterable):\n",
    "    \"powerset([1,2,3]) --> () (1,) (2,) (3,) (1,2) (1,3) (2,3) (1,2,3)\"\n",
    "    s = list(iterable)\n",
    "    return chain.from_iterable(combinations(s, r) for r in range(len(s)+1))\n",
    "\n",
    "def concat(ls): \n",
    "    return list(chain.from_iterable(ls))\n",
    "\n",
    "formulas = {\n",
    "    \"AR\": C_ar, \n",
    "    \"BG\": C_bg,\n",
    "    \"BQR\": C_bqr\n",
    "}\n",
    "\n",
    "for fmls in powerset(formulas.keys()):\n",
    "    \n",
    "    formula =  concat([C_func] + [formulas[f] for f in fmls])\n",
    "    sat_solver = Glucose3()\n",
    "    for cl in formula:\n",
    "        sat_solver.add_clause(cl)\n",
    "\n",
    "    if sat_solver.solve(): \n",
    "        print(f\"+ There is a canonical tournament solution, satisfying the orbit condition, up to {max_num_cands} candidates{' that satisfies ' + ', '.join(fmls) + '.' if len(fmls) > 0 else '.'}\\n\")\n",
    "    else: \n",
    "        print(f\"- There is no canonical tournament solution, satisfying the orbit condition, up to {max_num_cands} candidates{' that satisfies ' + ', '.join(fmls) + '.' if len(fmls) > 0 else '.'}\\n\")\n",
    "    #vm = sat_solver.get_model()"
   ]
  }
 ],
 "metadata": {
  "kernelspec": {
   "display_name": "Python 3 (ipykernel)",
   "language": "python",
   "name": "python3"
  },
  "language_info": {
   "codemirror_mode": {
    "name": "ipython",
    "version": 3
   },
   "file_extension": ".py",
   "mimetype": "text/x-python",
   "name": "python",
   "nbconvert_exporter": "python",
   "pygments_lexer": "ipython3",
   "version": "3.9.7"
  },
  "varInspector": {
   "cols": {
    "lenName": 16,
    "lenType": 16,
    "lenVar": 40
   },
   "kernels_config": {
    "python": {
     "delete_cmd_postfix": "",
     "delete_cmd_prefix": "del ",
     "library": "var_list.py",
     "varRefreshCmd": "print(var_dic_list())"
    },
    "r": {
     "delete_cmd_postfix": ") ",
     "delete_cmd_prefix": "rm(",
     "library": "var_list.r",
     "varRefreshCmd": "cat(var_dic_list()) "
    }
   },
   "types_to_exclude": [
    "module",
    "function",
    "builtin_function_or_method",
    "instance",
    "_Feature"
   ],
   "window_display": false
  }
 },
 "nbformat": 4,
 "nbformat_minor": 4
}
